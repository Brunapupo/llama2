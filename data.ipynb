{
  "cells": [
    {
      "cell_type": "markdown",
      "metadata": {
        "id": "view-in-github",
        "colab_type": "text"
      },
      "source": [
        "<a href=\"https://colab.research.google.com/github/Brunapupo/llama2/blob/main/data.ipynb\" target=\"_parent\"><img src=\"https://colab.research.google.com/assets/colab-badge.svg\" alt=\"Open In Colab\"/></a>"
      ]
    },
    {
      "cell_type": "code",
      "source": [
        "!pip install datasets\n"
      ],
      "metadata": {
        "colab": {
          "base_uri": "https://localhost:8080/"
        },
        "id": "JrrbXH-wJDoS",
        "outputId": "d02e3bbc-571f-4639-af15-230b071857c6"
      },
      "execution_count": null,
      "outputs": [
        {
          "output_type": "stream",
          "name": "stdout",
          "text": [
            "Collecting datasets\n",
            "  Downloading datasets-2.20.0-py3-none-any.whl (547 kB)\n",
            "\u001b[2K     \u001b[90m━━━━━━━━━━━━━━━━━━━━━━━━━━━━━━━━━━━━━━━━\u001b[0m \u001b[32m547.8/547.8 kB\u001b[0m \u001b[31m7.5 MB/s\u001b[0m eta \u001b[36m0:00:00\u001b[0m\n",
            "\u001b[?25hRequirement already satisfied: filelock in /usr/local/lib/python3.10/dist-packages (from datasets) (3.15.3)\n",
            "Requirement already satisfied: numpy>=1.17 in /usr/local/lib/python3.10/dist-packages (from datasets) (1.25.2)\n",
            "Collecting pyarrow>=15.0.0 (from datasets)\n",
            "  Downloading pyarrow-16.1.0-cp310-cp310-manylinux_2_28_x86_64.whl (40.8 MB)\n",
            "\u001b[2K     \u001b[90m━━━━━━━━━━━━━━━━━━━━━━━━━━━━━━━━━━━━━━━━\u001b[0m \u001b[32m40.8/40.8 MB\u001b[0m \u001b[31m14.4 MB/s\u001b[0m eta \u001b[36m0:00:00\u001b[0m\n",
            "\u001b[?25hRequirement already satisfied: pyarrow-hotfix in /usr/local/lib/python3.10/dist-packages (from datasets) (0.6)\n",
            "Collecting dill<0.3.9,>=0.3.0 (from datasets)\n",
            "  Downloading dill-0.3.8-py3-none-any.whl (116 kB)\n",
            "\u001b[2K     \u001b[90m━━━━━━━━━━━━━━━━━━━━━━━━━━━━━━━━━━━━━━━━\u001b[0m \u001b[32m116.3/116.3 kB\u001b[0m \u001b[31m8.6 MB/s\u001b[0m eta \u001b[36m0:00:00\u001b[0m\n",
            "\u001b[?25hRequirement already satisfied: pandas in /usr/local/lib/python3.10/dist-packages (from datasets) (2.0.3)\n",
            "Collecting requests>=2.32.2 (from datasets)\n",
            "  Downloading requests-2.32.3-py3-none-any.whl (64 kB)\n",
            "\u001b[2K     \u001b[90m━━━━━━━━━━━━━━━━━━━━━━━━━━━━━━━━━━━━━━━━\u001b[0m \u001b[32m64.9/64.9 kB\u001b[0m \u001b[31m3.1 MB/s\u001b[0m eta \u001b[36m0:00:00\u001b[0m\n",
            "\u001b[?25hRequirement already satisfied: tqdm>=4.66.3 in /usr/local/lib/python3.10/dist-packages (from datasets) (4.66.4)\n",
            "Collecting xxhash (from datasets)\n",
            "  Downloading xxhash-3.4.1-cp310-cp310-manylinux_2_17_x86_64.manylinux2014_x86_64.whl (194 kB)\n",
            "\u001b[2K     \u001b[90m━━━━━━━━━━━━━━━━━━━━━━━━━━━━━━━━━━━━━━━━\u001b[0m \u001b[32m194.1/194.1 kB\u001b[0m \u001b[31m20.3 MB/s\u001b[0m eta \u001b[36m0:00:00\u001b[0m\n",
            "\u001b[?25hCollecting multiprocess (from datasets)\n",
            "  Downloading multiprocess-0.70.16-py310-none-any.whl (134 kB)\n",
            "\u001b[2K     \u001b[90m━━━━━━━━━━━━━━━━━━━━━━━━━━━━━━━━━━━━━━━━\u001b[0m \u001b[32m134.8/134.8 kB\u001b[0m \u001b[31m10.4 MB/s\u001b[0m eta \u001b[36m0:00:00\u001b[0m\n",
            "\u001b[?25hRequirement already satisfied: fsspec[http]<=2024.5.0,>=2023.1.0 in /usr/local/lib/python3.10/dist-packages (from datasets) (2023.6.0)\n",
            "Requirement already satisfied: aiohttp in /usr/local/lib/python3.10/dist-packages (from datasets) (3.9.5)\n",
            "Requirement already satisfied: huggingface-hub>=0.21.2 in /usr/local/lib/python3.10/dist-packages (from datasets) (0.23.4)\n",
            "Requirement already satisfied: packaging in /usr/local/lib/python3.10/dist-packages (from datasets) (24.1)\n",
            "Requirement already satisfied: pyyaml>=5.1 in /usr/local/lib/python3.10/dist-packages (from datasets) (6.0.1)\n",
            "Requirement already satisfied: aiosignal>=1.1.2 in /usr/local/lib/python3.10/dist-packages (from aiohttp->datasets) (1.3.1)\n",
            "Requirement already satisfied: attrs>=17.3.0 in /usr/local/lib/python3.10/dist-packages (from aiohttp->datasets) (23.2.0)\n",
            "Requirement already satisfied: frozenlist>=1.1.1 in /usr/local/lib/python3.10/dist-packages (from aiohttp->datasets) (1.4.1)\n",
            "Requirement already satisfied: multidict<7.0,>=4.5 in /usr/local/lib/python3.10/dist-packages (from aiohttp->datasets) (6.0.5)\n",
            "Requirement already satisfied: yarl<2.0,>=1.0 in /usr/local/lib/python3.10/dist-packages (from aiohttp->datasets) (1.9.4)\n",
            "Requirement already satisfied: async-timeout<5.0,>=4.0 in /usr/local/lib/python3.10/dist-packages (from aiohttp->datasets) (4.0.3)\n",
            "Requirement already satisfied: typing-extensions>=3.7.4.3 in /usr/local/lib/python3.10/dist-packages (from huggingface-hub>=0.21.2->datasets) (4.12.2)\n",
            "Requirement already satisfied: charset-normalizer<4,>=2 in /usr/local/lib/python3.10/dist-packages (from requests>=2.32.2->datasets) (3.3.2)\n",
            "Requirement already satisfied: idna<4,>=2.5 in /usr/local/lib/python3.10/dist-packages (from requests>=2.32.2->datasets) (3.7)\n",
            "Requirement already satisfied: urllib3<3,>=1.21.1 in /usr/local/lib/python3.10/dist-packages (from requests>=2.32.2->datasets) (2.0.7)\n",
            "Requirement already satisfied: certifi>=2017.4.17 in /usr/local/lib/python3.10/dist-packages (from requests>=2.32.2->datasets) (2024.6.2)\n",
            "Requirement already satisfied: python-dateutil>=2.8.2 in /usr/local/lib/python3.10/dist-packages (from pandas->datasets) (2.8.2)\n",
            "Requirement already satisfied: pytz>=2020.1 in /usr/local/lib/python3.10/dist-packages (from pandas->datasets) (2023.4)\n",
            "Requirement already satisfied: tzdata>=2022.1 in /usr/local/lib/python3.10/dist-packages (from pandas->datasets) (2024.1)\n",
            "Requirement already satisfied: six>=1.5 in /usr/local/lib/python3.10/dist-packages (from python-dateutil>=2.8.2->pandas->datasets) (1.16.0)\n",
            "Installing collected packages: xxhash, requests, pyarrow, dill, multiprocess, datasets\n",
            "  Attempting uninstall: requests\n",
            "    Found existing installation: requests 2.31.0\n",
            "    Uninstalling requests-2.31.0:\n",
            "      Successfully uninstalled requests-2.31.0\n",
            "  Attempting uninstall: pyarrow\n",
            "    Found existing installation: pyarrow 14.0.2\n",
            "    Uninstalling pyarrow-14.0.2:\n",
            "      Successfully uninstalled pyarrow-14.0.2\n",
            "\u001b[31mERROR: pip's dependency resolver does not currently take into account all the packages that are installed. This behaviour is the source of the following dependency conflicts.\n",
            "cudf-cu12 24.4.1 requires pyarrow<15.0.0a0,>=14.0.1, but you have pyarrow 16.1.0 which is incompatible.\n",
            "google-colab 1.0.0 requires requests==2.31.0, but you have requests 2.32.3 which is incompatible.\n",
            "ibis-framework 8.0.0 requires pyarrow<16,>=2, but you have pyarrow 16.1.0 which is incompatible.\u001b[0m\u001b[31m\n",
            "\u001b[0mSuccessfully installed datasets-2.20.0 dill-0.3.8 multiprocess-0.70.16 pyarrow-16.1.0 requests-2.32.3 xxhash-3.4.1\n"
          ]
        }
      ]
    },
    {
      "cell_type": "code",
      "execution_count": null,
      "metadata": {
        "id": "u3Ip59DKugrU"
      },
      "outputs": [],
      "source": [
        "import pandas as pd\n",
        "from IPython.display import FileLink\n",
        "\n",
        "# Dados\n",
        "data = {\n",
        "    'Texto': ['Manual de Teledermatologia para Laudadores Prefácio: A dermatologia é a especialidade médica que cuida do diagnóstico, prevenção e tratamento de doenças da pele e seus anexos. A Teledermatologia melhora o acesso a serviços de média e alta complexidade em dermatologia, oferecendo classificação de risco para lesões de pele por meio de laudos à distância, ajudando a adequar encaminhamentos com base na gravidade. Este manual é uma ferramenta para profissionais que emitem laudos de Teledermatologia, descrevendo o processo através do Sistema de Telessaúde e Telemedicina (STT). Cadastro no Sistema: Para acessar os serviços de Teledermatologia, é necessário o cadastro no Sistema de Telemedicina e Telessaúde. Problemas relacionados ao cadastro devem ser reportados à equipe de atendimento. Habilitação do Serviço: Acesso às funções de emissão de laudo é concedido após confirmação de dados pela equipe de atendimento, após a solicitação de cadastro. Em caso de não habilitação, é necessário solicitar a habilitação. Capacitação para Laudadores: A capacitação é essencial para atuar como laudador em Teledermatologia, fornecendo noções sobre o sistema e o processo de emissão de laudos. A capacitação é agendada com a equipe de atendimento. Reconhecimento do Sistema: Após aprovação do cadastro, os dados de acesso são enviados via e-mail. Verifique também as pastas de spam/lixo eletrônico. A página inicial do sistema apresenta informações sobre a produtividade do usuário, incluindo o número de laudos emitidos e exames pendentes. Resumo Esquemático da Teledermatologia: Este manual detalha a etapa de emissão do laudo em Teledermatologia, incluindo os requisitos para fotos conforme os protocolos de câncer de pele e outras dermatoses, detalhando as especificações para cada tipo de foto necessária. Protocolos Fotográficos: Câncer de Pele: Fotos panorâmicas da região da lesão, aproximação com régua e dermatoscopia. Outras Dermatoses: Fotos panorâmicas do corpo anterior, corpo posterior, região da lesão, aproximação com régua e dermatoscopia. Emissão de Laudo: O processo envolve a revisão de exames na fila de laudos pendentes, mantendo a ordem, mas permitindo avançar se houver dificuldades com um exame específico.']\n",
        "}\n",
        "\n",
        "# Criar DataFrame\n",
        "df = pd.DataFrame(data)\n",
        "\n",
        "# Salvar DataFrame em CSV\n",
        "df.to_csv('manual_teledermatologia.csv', index=False)"
      ]
    },
    {
      "cell_type": "markdown",
      "source": [
        "# **Formato [INST] [/INST]**\n",
        "\n",
        "- [INST]: Denota o início de uma instrução ou pergunta no texto coletado.\n",
        "- [/INST]: Marca o fim da instrução ou pergunta.\n",
        "- <s> e </s>: Envolvem todo o texto da instrução, indicando que é uma unidade completa de informação.\n",
        "\n",
        "Esse formato estruturado facilita o processamento posterior, permitindo uma segmentação clara entre diferentes instruções e respostas, o que melhora a qualidade dos dados para o treinamento do modelo. É semelhante aos conceitos de X e Y usados no treinamento de machine learning, onde X representa as características de entrada (neste caso, a instrução) e Y representa a saída ou a resposta correspondente."
      ],
      "metadata": {
        "id": "Y-GsS9xBJQFu"
      }
    },
    {
      "cell_type": "code",
      "execution_count": null,
      "metadata": {
        "id": "DSGmN2CnvXAZ"
      },
      "outputs": [],
      "source": [
        "import pandas as pd\n",
        "from IPython.display import FileLink\n",
        "\n",
        "# Define the data for the DataFrame\n",
        "data = {\n",
        "    \"text\": [\n",
        "        \"<s>[INST] Como adicionar descritores? [/INST] Apesar deste não ser um campo obrigatório, é possível que, se julgar relevante, o especialista adicione os descritores CID-10 e/ou DECS. </s>\",\n",
        "        \"<s>[INST] Como finalizar a emissão do laudo? [/INST] No canto inferior da página, logo abaixo ao espaço dos descritores, é possível encontrar o botão “Publicar”. Para finalizar o envio do laudo, basta clicar neste botão, conferir as informações do laudo e, se estiver tudo correto, publicar o laudo definitivamente. </s>\",\n",
        "        \"<s>[INST] Como monitorar e modificar laudos? [/INST] No ícone EXAMES, a intenção é que o laudador tenha acesso a todos seus registros de exames laudados, mas, além disso, esta página permite ao laudador que um laudo seja editado conforme a necessidade. Para encontrar um exame específico, pode-se utilizar os filtros destacados na imagem abaixo, ex.: período de tempo: data do exame ou data do laudo. </s>\",\n",
        "        \"<s>[INST] Como pular o exame [/INST] Todos os exames da rede do usuário são organizados em uma fila conforme a data de inserção do exame no sistema. Quando houver alguma dúvida ou dificuldade em relação ao laudo de um exame, utilizando o botão “próximo exame” é possível avançar para o próximo da fila, deixando o anterior para ser laudado em outro momento. </s>\",\n",
        "        \"<s>[INST] Como pular o invalidar? [/INST] No canto superior direito da página de laudo, são disponibilizados os botões “invalidar” e “próximo exame” para serem utilizados, quando necessário. INVALIDAR: Ao clicar no botão “invalidar”, um novo espaço (conforme representação abaixo) se abre para que seja escolhido (entre as opções dadas pelo sistema) o motivo da invalidação. </s>\",\n",
        "        \"<s>[INST] Quais são as etapas para emissão do laudo? [/INST] Este é um processo bastante simples. Na página de laudo, sempre constará o primeiro exame da fila com laudo pendente. Esta ordem deve ser respeitada, no entanto, é possível avançar para o próximo exame caso houver alguma dificuldade sobre o exame mostrado. ⦁\tAo lado ESQUERDO é possível ver todas as imagens do registro fotográfico do exame a ser laudado. A configuração padrão sempre estará programada para mostrar todas as imagens, mas é possível filtrar as imagens de acordo com o seu “tipo” no botão posicionado no canto superior esquerdo da imagem, conforme representado abaixo. Para navegar entre as imagens, basta utilizar o botão central de rolagem do mouse. Mas caso não estiver disponível, no próprio sistema haverá um botão de rolagem (destacado na representação ao lado em vermelho). Logo abaixo da imagem do exame, há um quadro informativo com outras dicas referentes à visualização das imagens, confira abaixo: Conferir as informações do exame: Ao lado DIREITO são dispostas todas as informações referentes ao exame, ao paciente e às lesões. Além disso, haverá o espaço reservado para o preenchimento do laudo textual. As primeiras informações trazidas são as do exame, conforme mostrado abaixo </s>\",\n",
        "        \"<s>[INST] Quais são os tipos de fotos solicitadas pelos protocolos? [/INST] FOTO PARONÂMICA: CORPO ANTERIOR E POSTERIOR Estas duas fotos são requeridas somente no protocolo outras dermatoses. O paciente deve vestir trajes de banho. A cabeça não precisa aparecer. A foto deve ser do queixo e da nuca para baixo, exceto nos casos onde a lesão fica na cabeça, como no exemplo deste manual. FOTO PANORÂMICA: REGIÃO DA LESÃO Esta foto deve mostrar a região da lesão. Neste caso, a cabeça. Caso a lesão for localizada em região lateral, é necessária uma imagem de perfil (lateral) da região afetada. FOTO DE APROXIMAÇÃO COM RÉGUA Esta foto deve mostrar com proximidade a lesão, posicionando uma régua branca ao lado da lesão. A régua e a etiqueta não devem sobrepor a lesão. A régua deve ter suas marcações bem distinguidas.FOTO DERMATOSCÓPICA (DERMATOSCOPIA) Esta é a foto registrada utilizando o dermatoscópio acoplado à câmera. Não deve aparecer as bordas do dermatoscópio (para isso, é necessário dar zoom na câmera). </s>\",\n",
        "        \"<s>[INST] Quais são os procedimentos que o médico laudador deve realizar ao avaliar as fotos de um exame, considerando os requisitos dos protocolos de registro fotográfico? [/INST] O médico laudador, além de avaliá-las, precisa conferir se estão de acordo com o que o protocolo exige. Nos casos em que as imagens não correspondem ao que o protocolo requere, o exame pode ser invalidado por esta razão. Confira o que cada protocolo exige: PROTOCOLO: CÂNCER DE PELE, Panorâmica região da lesão, Aproximação com régua, Dermatoscopia. PROTOCOLO: OUTRAS DERMATOSES: Panorâmica corpo anterior, Panorâmica corpo posterior, Panorâmica região da lesão, Aproximação com régua, Dermatoscopia  </s>\",\n",
        "        \"<s>[INST] Meu cadastro foi aprovado, e agora? [/INST] Ao ter o cadastro aprovado, os dados de acesso (usuário e senha) serão encaminhados para o e-mail cadastrado. Além dos dados de acesso, neste e-mail constará o link de direcionamento à página de acesso ao sistema. Detalhe: alguns provedores de e-mail direcionam a confirmação de cadastro para o spam/lixo eletrônico, então, estas pastas também devem ser conferidas. A página inicial do sistema (ÍCONE A) sempre apresentará um informativo sobre a produtividade do usuário. Neste caso, serão apresentados o nº de registros de laudos emitidos e de exames sem laudo. Nos tópicos a seguir, serão demonstradas as funções dos ícones B e C. </s>\",\n",
        "        \"<s>[INST] Como solicitar capacitação? [/INST] Para ser habilitado como laudador para a Teledermatologia, é indispensável a capacitação do profissional. As capacitações são encontros voltados à instrução inicial do profissional sobre suas atividades de Teledermatologia. Estes encontros fornecem noções sobre o funcionamento do sistema e sobre o procedimento de emissão de laudo. A capacitação deve ser agendada com a equipe de atendimento ao usuário, que será responsável por comunicar todas as informações pertinentes ao assunto.  </s>\",\n",
        "        \"<s>[INST] Como posso realizar o cadastro no sistema? [/INST] Para ter acesso aos serviços da Teledermatologia, o profissional deve ser cadastrado no Sistema de Telemedicina e Telessaúde (STT). Dúvidas ou dificuldades relacionadas ao cadastro devem ser comunicadas à equipe de atendimento ao usuário pelo telefone 48 3721-4448 ou pelo e-mail telediagnosticosc@gmail.com. </s>\",\n",
        "        \"<s>[INST] Explique a avaliação morfológica da lesão funda a base do diagnóstico. [/INST] A avaliação morfológica da lesão funda a base do diagnóstico. Portanto, a Teledermatologia, através da atuação de profissionais da atenção primária em saúde devidamente capacitados, obtém o registro fotográfico da lesão e submete-a a avaliação por um dermatologista que emitirá um laudo onde constará a classificação de risco e a conduta a ser tomada.  </s>\",\n",
        "        \"<s>[INST] Qual é o objetivo da teledermatologia? [/INST] A teledermatologia tem como objetivo melhorar o acesso da população aos serviços de média e alta complexidade para a especialidade de dermatologia. Para isso, através da emissão de laudos à distância, o serviço fornece a classificação de risco para as lesões de pele de usuários do Sistema Único de Saúde (SUS) e, assim, busca adequar os encaminhamentos de acordo com a gravidade estabelecida pela classificação de risco. </s>\",\n",
        "        \"<s>[INST] O que é a dermatologia no STT? [/INST] A dermatologia é a especialidade médica responsável pelo diagnóstico, prevenção e tratamento de doenças relacionadas à pele e seus anexos (cabelos, pelos e unhas). A Teledermatologia, por sua vez, constitui um dos serviços de telediagnóstico ofertados pelo Telessaúde UFSC, em parceria com a Central Estadual de Telemedicina (CET) de Santa Catarina. </s>\",\n",
        "        \"<s>[INST] Como posso me registrar no sistema de teledermatologia? [/INST] Para acessar os serviços de teledermatologia, profissionais de saúde devem se registrar no Sistema de Telemedicina e Telessaúde (STT). O registro envolve preencher um formulário online, fornecendo informações pessoais e profissionais detalhadas. </s>\",\n",
        "        \"<s>[INST] Como posso verificar a confirmação do meu cadastro? [/INST] Após submeter o formulário de cadastro, a confirmação é enviada via e-mail ou telefone. O usuário deve verificar todas as pastas de e-mail, incluindo spam, para garantir que a confirmação seja recebida e proceder com a ativação da conta. </s>\",\n",
        "        \"<s>[INST] Como posso solicitar habilitação para emitir laudos no sistema? [/INST] Uma vez cadastrado, o profissional precisa solicitar habilitação para emitir laudos, o que é feito enviando um pedido formal via e-mail ao suporte do sistema. Este processo inclui uma verificação de credenciais e qualificações. </s>\",\n",
        "        \"<s>[INST] Qual o processo de capacitação para laudadores no sistema de teledermatologia? [/INST] É essencial que todos os laudadores passem por uma capacitação específica sobre como usar o sistema e emitir laudos corretamente. Essa capacitação inclui sessões interativas online e testes de proficiência. </s>\",\n",
        "        \"<s>[INST] Como posso agendar uma sessão de treinamento para o sistema? [/INST] As sessões de treinamento devem ser agendadas previamente com o suporte ao usuário, disponíveis em múltiplos horários para acomodar diferentes fusos horários e agendas dos profissionais. </s>\",\n",
        "        \"<s>[INST] Como faço para acessar o sistema após meu cadastro ser aprovado? [/INST] Após a aprovação do cadastro e confirmação via e-mail, o usuário recebe credenciais de acesso, que incluem um nome de usuário e senha. Essas credenciais permitem o login seguro no sistema. </s>\",\n",
        "        \"<s>[INST] Quais são os recursos disponíveis na página de login do sistema? [/INST] A página de login do sistema é projetada para ser intuitiva, com opções claras para inserção de nome de usuário e senha, além de links de ajuda para recuperação de senha ou problemas técnicos. </s>\",\n",
        "        \"<s>[INST] Como é o processo de emissão de laudos no sistema? [/INST] O processo de emissão de laudos é centralizado no sistema, onde o laudador avalia imagens e informações clínicas para classificar e descrever as condições dermatológicas observadas nas imagens submetidas. </s>\",\n",
        "        \"<s>[INST] Como posso acessar e gerenciar os exames pendentes na interface do sistema? [/INST] A interface da página de laudo é organizada para facilitar o acesso aos exames pendentes, com funcionalidades para visualizar detalhes do exame, editar informações e confirmar o envio do laudo. </s>\",\n",
        "        \"<s>[INST] Qual é a importância da revisão de imagens no processo de emissão de laudos? [/INST] A revisão de imagens é uma etapa crítica, onde o laudador examina cada imagem submetida para garantir que estão de acordo com os protocolos estabelecidos e são adequadas para um diagnóstico preciso. </s>\",\n",
        "        \"<s>[INST] Como posso filtrar imagens por tipo durante a revisão? [/INST] Durante a revisão, o laudador pode usar filtros para selecionar imagens por tipo (por exemplo, dermatoscopia, foto panorâmica), facilitando a análise específica de cada tipo de imagem. </s>\",\n",
        "        \"<s>[INST] Como verificar a integridade e precisão das informações do exame? [/INST] É vital conferir as informações do exame, incluindo a data de submissão, origem das imagens, e concordância com os dados do paciente, para assegurar a integridade e precisão do processo de laudo. </s>\",\n",
        "        \"<s>[INST] Como assegurar a precisão e confidencialidade das informações do paciente no sistema? [/INST] O sistema exige que o nome do paciente nas imagens corresponda à identificação abreviada na etiqueta, um passo crucial para manter a confidencialidade e precisão dos registros médicos. </s>\",\n",
        "        \"<s>[INST] Como os laudadores devem examinar as informações clínicas disponíveis? [/INST] O laudador deve examinar as informações clínicas disponíveis, que incluem histórico médico, detalhes das lesões e qualquer diagnóstico preliminar fornecido pela equipe médica referente. </s>\",\n",
        "        \"<s>[INST] Qual é o processo para preencher e submeter um laudo no sistema? [/INST] Ao preencher o laudo, o laudador detalha as observações diagnósticas, classifica o risco da lesão e sugere encaminhamentos ou tratamentos conforme os protocolos médicos estabelecidos. </s>\",\n",
        "        \"<s>[INST] Como posso modificar um laudo já emitido no sistema? [/INST] O sistema permite a modificação de laudos emitidos, habilitando os laudadores a atualizar ou corrigir informações à medida que novos dados se tornam disponíveis ou erros são identificados. </s>\",\n",
        "        \"<s>[INST] Como posso monitorar e revisar os laudos que emiti? [/INST] Laudadores podem acessar um histórico de todos os laudos que emitiram, permitindo monitoramento contínuo e revisões de qualidade, além de compilações estatísticas de suas atividades. </s>\",\n",
        "        \"<s>[INST] Como invalidar um exame que não atende aos critérios necessários? [/INST] Se um exame não atende aos critérios necessários, como imagens inadequadas ou informações insuficientes, o laudador pode invalidá-lo, escolhendo o motivo apropriado no sistema. </s>\",\n",
        "        \"<s>[INST] O que fazer se encontrar dificuldade com um exame específico? [/INST] Em casos de dúvida ou dificuldade com um exame específico, o laudador pode optar por pular para o próximo, deixando o exame problemático para revisão posterior ou consulta com um especialista. </s>\",\n",
        "        \"<s>[INST] Quais são os requisitos de imagem para o registro fotográfico em casos de câncer de pele? [/INST] Protocolos específicos para câncer de pele exigem imagens detalhadas da lesão, incluindo vistas panorâmicas e medições precisas com régua, além de imagens dermatoscópicas focadas. </s>\",\n",
        "        \"<s>[INST] Como são capturadas as imagens para o registro de outras dermatoses? [/INST] Para outras dermatoses, são necessárias fotos detalhadas do corpo inteiro, vistas anteriores e posteriores, e fotografias específicas de qualquer lesão, seguindo protocolos rigorosos. </s>\",\n",
        "        \"<s>[INST] Qual é o papel das fotos panorâmicas na avaliação das condições dermatológicas? [/INST] Fotos panorâmicas devem abranger amplas áreas do corpo, fornecendo uma visão geral clara que ajuda na avaliação contextual da condição dermatológica. </s>\",\n",
        "        \"<s>[INST] Como maximizar os detalhes ao capturar fotos dermatoscópicas? [/INST] Fotos dermatoscópicas devem ser capturadas de forma a maximizar detalhes da textura da pele e padrões da lesão, sem obstrução das bordas do equipamento. </s>\",\n",
        "        \"<s>[INST] Como os laudadores podem adicionar descritores ao laudo para facilitar futuras referências? [/INST] Laudadores podem enriquecer o laudo com descritores como códigos CID-10 ou DECS, que ajudam na classificação precisa das condições observadas e facilitam referências futuras. </s>\",\n",
        "        \"<s>[INST] Como é realizado o processo de publicação de um laudo após a aprovação final? [/INST] Após a revisão e aprovação final do laudo, o laudador usa o botão 'Publicar' para enviar oficialmente o documento, completando o processo de emissão de laudo no sistema. </s>\",\n",
        "         \"<s>[INST] Como adicionar descritores? [/INST] Apesar deste não ser um campo obrigatório, é possível que, se julgar relevante, o especialista adicione os descritores CID-10 e/ou DECS. </s>\",\n",
        "        \"<s>[INST] Como finalizar a emissão do laudo? [/INST] No canto inferior da página, logo abaixo ao espaço dos descritores, é possível encontrar o botão “Publicar”. Para finalizar o envio do laudo, basta clicar neste botão, conferir as informações do laudo e, se estiver tudo correto, publicar o laudo definitivamente. </s>\",\n",
        "        \"<s>[INST] Como monitorar e modificar laudos? [/INST] No ícone EXAMES, a intenção é que o laudador tenha acesso a todos seus registros de exames laudados, mas, além disso, esta página permite ao laudador que um laudo seja editado conforme a necessidade. Para encontrar um exame específico, pode-se utilizar os filtros destacados na imagem abaixo, ex.: período de tempo: data do exame ou data do laudo. </s>\",\n",
        "        \"<s>[INST] Como pular o exame [/INST] Todos os exames da rede do usuário são organizados em uma fila conforme a data de inserção do exame no sistema. Quando houver alguma dúvida ou dificuldade em relação ao laudo de um exame, utilizando o botão “próximo exame” é possível avançar para o próximo da fila, deixando o anterior para ser laudado em outro momento. </s>\",\n",
        "        \"<s>[INST] Como pular o invalidar? [/INST] No canto superior direito da página de laudo, são disponibilizados os botões “invalidar” e “próximo exame” para serem utilizados, quando necessário. INVALIDAR: Ao clicar no botão “invalidar”, um novo espaço (conforme representação abaixo) se abre para que seja escolhido (entre as opções dadas pelo sistema) o motivo da invalidação. </s>\",\n",
        "        \"<s>[INST] Quais são as etapas para emissão do laudo? [/INST] Este é um processo bastante simples. Na página de laudo, sempre constará o primeiro exame da fila com laudo pendente. Esta ordem deve ser respeitada, no entanto, é possível avançar para o próximo exame caso houver alguma dificuldade sobre o exame mostrado. ⦁\tAo lado ESQUERDO é possível ver todas as imagens do registro fotográfico do exame a ser laudado. A configuração padrão sempre estará programada para mostrar todas as imagens, mas é possível filtrar as imagens de acordo com o seu “tipo” no botão posicionado no canto superior esquerdo da imagem, conforme representado abaixo. Para navegar entre as imagens, basta utilizar o botão central de rolagem do mouse. Mas caso não estiver disponível, no próprio sistema haverá um botão de rolagem (destacado na representação ao lado em vermelho). Logo abaixo da imagem do exame, há um quadro informativo com outras dicas referentes à visualização das imagens, confira abaixo: Conferir as informações do exame: Ao lado DIREITO são dispostas todas as informações referentes ao exame, ao paciente e às lesões. Além disso, haverá o espaço reservado para o preenchimento do laudo textual. As primeiras informações trazidas são as do exame, conforme mostrado abaixo </s>\",\n",
        "        \"<s>[INST] Quais são os tipos de fotos solicitadas pelos protocolos? [/INST] FOTO PARONÂMICA: CORPO ANTERIOR E POSTERIOR Estas duas fotos são requeridas somente no protocolo outras dermatoses. O paciente deve vestir trajes de banho. A cabeça não precisa aparecer. A foto deve ser do queixo e da nuca para baixo, exceto nos casos onde a lesão fica na cabeça, como no exemplo deste manual. FOTO PANORÂMICA: REGIÃO DA LESÃO Esta foto deve mostrar a região da lesão. Neste caso, a cabeça. Caso a lesão for localizada em região lateral, é necessária uma imagem de perfil (lateral) da região afetada. FOTO DE APROXIMAÇÃO COM RÉGUA Esta foto deve mostrar com proximidade a lesão, posicionando uma régua branca ao lado da lesão. A régua e a etiqueta não devem sobrepor a lesão. A régua deve ter suas marcações bem distinguidas.FOTO DERMATOSCÓPICA (DERMATOSCOPIA) Esta é a foto registrada utilizando o dermatoscópio acoplado à câmera. Não deve aparecer as bordas do dermatoscópio (para isso, é necessário dar zoom na câmera). </s>\",\n",
        "        \"<s>[INST] Quais são os procedimentos que o médico laudador deve realizar ao avaliar as fotos de um exame, considerando os requisitos dos protocolos de registro fotográfico? [/INST] O médico laudador, além de avaliá-las, precisa conferir se estão de acordo com o que o protocolo exige. Nos casos em que as imagens não correspondem ao que o protocolo requere, o exame pode ser invalidado por esta razão. Confira o que cada protocolo exige: PROTOCOLO: CÂNCER DE PELE, Panorâmica região da lesão, Aproximação com régua, Dermatoscopia. PROTOCOLO: OUTRAS DERMATOSES: Panorâmica corpo anterior, Panorâmica corpo posterior, Panorâmica região da lesão, Aproximação com régua, Dermatoscopia  </s>\",\n",
        "        \"<s>[INST] Meu cadastro foi aprovado, e agora? [/INST] Ao ter o cadastro aprovado, os dados de acesso (usuário e senha) serão encaminhados para o e-mail cadastrado. Além dos dados de acesso, neste e-mail constará o link de direcionamento à página de acesso ao sistema. Detalhe: alguns provedores de e-mail direcionam a confirmação de cadastro para o spam/lixo eletrônico, então, estas pastas também devem ser conferidas. A página inicial do sistema (ÍCONE A) sempre apresentará um informativo sobre a produtividade do usuário. Neste caso, serão apresentados o nº de registros de laudos emitidos e de exames sem laudo. Nos tópicos a seguir, serão demonstradas as funções dos ícones B e C. </s>\",\n",
        "        \"<s>[INST] Como solicitar capacitação? [/INST] Para ser habilitado como laudador para a Teledermatologia, é indispensável a capacitação do profissional. As capacitações são encontros voltados à instrução inicial do profissional sobre suas atividades de Teledermatologia. Estes encontros fornecem noções sobre o funcionamento do sistema e sobre o procedimento de emissão de laudo. A capacitação deve ser agendada com a equipe de atendimento ao usuário, que será responsável por comunicar todas as informações pertinentes ao assunto.  </s>\",\n",
        "        \"<s>[INST] Como posso realizar o cadastro no sistema? [/INST] Para ter acesso aos serviços da Teledermatologia, o profissional deve ser cadastrado no Sistema de Telemedicina e Telessaúde (STT). Dúvidas ou dificuldades relacionadas ao cadastro devem ser comunicadas à equipe de atendimento ao usuário pelo telefone 48 3721-4448 ou pelo e-mail telediagnosticosc@gmail.com. </s>\",\n",
        "        \"<s>[INST] Explique a avaliação morfológica da lesão funda a base do diagnóstico. [/INST] A avaliação morfológica da lesão funda a base do diagnóstico. Portanto, a Teledermatologia, através da atuação de profissionais da atenção primária em saúde devidamente capacitados, obtém o registro fotográfico da lesão e submete-a a avaliação por um dermatologista que emitirá um laudo onde constará a classificação de risco e a conduta a ser tomada.  </s>\",\n",
        "        \"<s>[INST] Qual é o objetivo da teledermatologia? [/INST] A teledermatologia tem como objetivo melhorar o acesso da população aos serviços de média e alta complexidade para a especialidade de dermatologia. Para isso, através da emissão de laudos à distância, o serviço fornece a classificação de risco para as lesões de pele de usuários do Sistema Único de Saúde (SUS) e, assim, busca adequar os encaminhamentos de acordo com a gravidade estabelecida pela classificação de risco. </s>\",\n",
        "        \"<s>[INST] O que é a dermatologia no STT? [/INST] A dermatologia é a especialidade médica responsável pelo diagnóstico, prevenção e tratamento de doenças relacionadas à pele e seus anexos (cabelos, pelos e unhas). A Teledermatologia, por sua vez, constitui um dos serviços de telediagnóstico ofertados pelo Telessaúde UFSC, em parceria com a Central Estadual de Telemedicina (CET) de Santa Catarina. </s>\",\n",
        "        \"<s>[INST] Como posso me registrar no sistema de teledermatologia? [/INST] Para acessar os serviços de teledermatologia, profissionais de saúde devem se registrar no Sistema de Telemedicina e Telessaúde (STT). O registro envolve preencher um formulário online, fornecendo informações pessoais e profissionais detalhadas. </s>\",\n",
        "        \"<s>[INST] Como posso verificar a confirmação do meu cadastro? [/INST] Após submeter o formulário de cadastro, a confirmação é enviada via e-mail ou telefone. O usuário deve verificar todas as pastas de e-mail, incluindo spam, para garantir que a confirmação seja recebida e proceder com a ativação da conta. </s>\",\n",
        "        \"<s>[INST] Como posso solicitar habilitação para emitir laudos no sistema? [/INST] Uma vez cadastrado, o profissional precisa solicitar habilitação para emitir laudos, o que é feito enviando um pedido formal via e-mail ao suporte do sistema. Este processo inclui uma verificação de credenciais e qualificações. </s>\",\n",
        "        \"<s>[INST] Qual o processo de capacitação para laudadores no sistema de teledermatologia? [/INST] É essencial que todos os laudadores passem por uma capacitação específica sobre como usar o sistema e emitir laudos corretamente. Essa capacitação inclui sessões interativas online e testes de proficiência. </s>\",\n",
        "        \"<s>[INST] Como posso agendar uma sessão de treinamento para o sistema? [/INST] As sessões de treinamento devem ser agendadas previamente com o suporte ao usuário, disponíveis em múltiplos horários para acomodar diferentes fusos horários e agendas dos profissionais. </s>\",\n",
        "        \"<s>[INST] Como faço para acessar o sistema após meu cadastro ser aprovado? [/INST] Após a aprovação do cadastro e confirmação via e-mail, o usuário recebe credenciais de acesso, que incluem um nome de usuário e senha. Essas credenciais permitem o login seguro no sistema. </s>\",\n",
        "        \"<s>[INST] Quais são os recursos disponíveis na página de login do sistema? [/INST] A página de login do sistema é projetada para ser intuitiva, com opções claras para inserção de nome de usuário e senha, além de links de ajuda para recuperação de senha ou problemas técnicos. </s>\",\n",
        "        \"<s>[INST] Como é o processo de emissão de laudos no sistema? [/INST] O processo de emissão de laudos é centralizado no sistema, onde o laudador avalia imagens e informações clínicas para classificar e descrever as condições dermatológicas observadas nas imagens submetidas. </s>\",\n",
        "        \"<s>[INST] Como posso acessar e gerenciar os exames pendentes na interface do sistema? [/INST] A interface da página de laudo é organizada para facilitar o acesso aos exames pendentes, com funcionalidades para visualizar detalhes do exame, editar informações e confirmar o envio do laudo. </s>\",\n",
        "        \"<s>[INST] Qual é a importância da revisão de imagens no processo de emissão de laudos? [/INST] A revisão de imagens é uma etapa crítica, onde o laudador examina cada imagem submetida para garantir que estão de acordo com os protocolos estabelecidos e são adequadas para um diagnóstico preciso. </s>\",\n",
        "        \"<s>[INST] Como posso filtrar imagens por tipo durante a revisão? [/INST] Durante a revisão, o laudador pode usar filtros para selecionar imagens por tipo (por exemplo, dermatoscopia, foto panorâmica), facilitando a análise específica de cada tipo de imagem. </s>\",\n",
        "        \"<s>[INST] Como verificar a integridade e precisão das informações do exame? [/INST] É vital conferir as informações do exame, incluindo a data de submissão, origem das imagens, e concordância com os dados do paciente, para assegurar a integridade e precisão do processo de laudo. </s>\",\n",
        "        \"<s>[INST] Como assegurar a precisão e confidencialidade das informações do paciente no sistema? [/INST] O sistema exige que o nome do paciente nas imagens corresponda à identificação abreviada na etiqueta, um passo crucial para manter a confidencialidade e precisão dos registros médicos. </s>\",\n",
        "        \"<s>[INST] Como os laudadores devem examinar as informações clínicas disponíveis? [/INST] O laudador deve examinar as informações clínicas disponíveis, que incluem histórico médico, detalhes das lesões e qualquer diagnóstico preliminar fornecido pela equipe médica referente. </s>\",\n",
        "        \"<s>[INST] Qual é o processo para preencher e submeter um laudo no sistema? [/INST] Ao preencher o laudo, o laudador detalha as observações diagnósticas, classifica o risco da lesão e sugere encaminhamentos ou tratamentos conforme os protocolos médicos estabelecidos. </s>\",\n",
        "        \"<s>[INST] Como posso modificar um laudo já emitido no sistema? [/INST] O sistema permite a modificação de laudos emitidos, habilitando os laudadores a atualizar ou corrigir informações à medida que novos dados se tornam disponíveis ou erros são identificados. </s>\",\n",
        "        \"<s>[INST] Como posso monitorar e revisar os laudos que emiti? [/INST] Laudadores podem acessar um histórico de todos os laudos que emitiram, permitindo monitoramento contínuo e revisões de qualidade, além de compilações estatísticas de suas atividades. </s>\",\n",
        "        \"<s>[INST] Como invalidar um exame que não atende aos critérios necessários? [/INST] Se um exame não atende aos critérios necessários, como imagens inadequadas ou informações insuficientes, o laudador pode invalidá-lo, escolhendo o motivo apropriado no sistema. </s>\",\n",
        "        \"<s>[INST] O que fazer se encontrar dificuldade com um exame específico? [/INST] Em casos de dúvida ou dificuldade com um exame específico, o laudador pode optar por pular para o próximo, deixando o exame problemático para revisão posterior ou consulta com um especialista. </s>\",\n",
        "        \"<s>[INST] Quais são os requisitos de imagem para o registro fotográfico em casos de câncer de pele? [/INST] Protocolos específicos para câncer de pele exigem imagens detalhadas da lesão, incluindo vistas panorâmicas e medições precisas com régua, além de imagens dermatoscópicas focadas. </s>\",\n",
        "        \"<s>[INST] Como são capturadas as imagens para o registro de outras dermatoses? [/INST] Para outras dermatoses, são necessárias fotos detalhadas do corpo inteiro, vistas anteriores e posteriores, e fotografias específicas de qualquer lesão, seguindo protocolos rigorosos. </s>\",\n",
        "        \"<s>[INST] Qual é o papel das fotos panorâmicas na avaliação das condições dermatológicas? [/INST] Fotos panorâmicas devem abranger amplas áreas do corpo, fornecendo uma visão geral clara que ajuda na avaliação contextual da condição dermatológica. </s>\",\n",
        "        \"<s>[INST] Como maximizar os detalhes ao capturar fotos dermatoscópicas? [/INST] Fotos dermatoscópicas devem ser capturadas de forma a maximizar detalhes da textura da pele e padrões da lesão, sem obstrução das bordas do equipamento. </s>\",\n",
        "        \"<s>[INST] Como os laudadores podem adicionar descritores ao laudo para facilitar futuras referências? [/INST] Laudadores podem enriquecer o laudo com descritores como códigos CID-10 ou DECS, que ajudam na classificação precisa das condições observadas e facilitam referências futuras. </s>\",\n",
        "        \"<s>[INST] Como é realizado o processo de publicação de um laudo após a aprovação final? [/INST] Após a revisão e aprovação final do laudo, o laudador usa o botão 'Publicar' para enviar oficialmente o documento, completando o processo de emissão de laudo no sistema. </s>\",\n",
        "    ],\n",
        "}\n",
        "\n",
        "# Criar DataFrame\n",
        "df = pd.DataFrame(data)\n",
        "\n",
        "# Salvar DataFrame em CSV\n",
        "df.to_csv('data_telemed_new.csv', index=False)"
      ]
    },
    {
      "cell_type": "markdown",
      "source": [
        "# **Carregando no Drive**"
      ],
      "metadata": {
        "id": "sYJ-7_b5IQkr"
      }
    },
    {
      "cell_type": "code",
      "execution_count": null,
      "metadata": {
        "colab": {
          "base_uri": "https://localhost:8080/"
        },
        "id": "fPhzINI6RHdc",
        "outputId": "0603b153-d0ae-43e2-b47b-0bedf55b76a4"
      },
      "outputs": [
        {
          "output_type": "stream",
          "name": "stdout",
          "text": [
            "                                                text\n",
            "0  <s>[INST] Como adicionar descritores? [/INST] ...\n",
            "1  <s>[INST] Como finalizar a emissão do laudo? [...\n",
            "2  <s>[INST] Como monitorar e modificar laudos? [...\n",
            "3  <s>[INST] Como pular o exame [/INST] Todos os ...\n",
            "4  <s>[INST] Como pular o invalidar? [/INST] No c...\n",
            "5  <s>[INST] Quais são as etapas para emissão do ...\n",
            "6  <s>[INST] Quais são os tipos de fotos solicita...\n",
            "7  <s>[INST] Quais são os procedimentos que o méd...\n",
            "8  <s>[INST] Meu cadastro foi aprovado, e agora? ...\n",
            "9  <s>[INST] Como solicitar capacitação? [/INST] ...\n"
          ]
        }
      ],
      "source": [
        "from google.colab import files\n",
        "\n",
        "import pandas as pd\n",
        "\n",
        "df = pd.read_csv('/content/data_telemed_new.csv')\n",
        "\n",
        "print(df.head(10))\n"
      ]
    },
    {
      "cell_type": "markdown",
      "source": [
        "# **Conversão para Formato Parquet**\n",
        "\n",
        "- Para atender aos requisitos do Hugging Face, o dataset foi convertido para o formato Parquet"
      ],
      "metadata": {
        "id": "lT5Gcye-IzrF"
      }
    },
    {
      "cell_type": "code",
      "execution_count": null,
      "metadata": {
        "id": "zybCGW_1SUtt"
      },
      "outputs": [],
      "source": [
        "new_var = df.to_parquet('/content/data_telemed_new.parquet')"
      ]
    },
    {
      "cell_type": "code",
      "source": [
        "print(df.head())"
      ],
      "metadata": {
        "colab": {
          "base_uri": "https://localhost:8080/"
        },
        "id": "zDd_4dyoKPRu",
        "outputId": "1eb0cd11-b517-4a92-ff04-c23730c5f15a"
      },
      "execution_count": null,
      "outputs": [
        {
          "output_type": "stream",
          "name": "stdout",
          "text": [
            "                                                text\n",
            "0  <s>[INST] Como adicionar descritores? [/INST] ...\n",
            "1  <s>[INST] Como finalizar a emissão do laudo? [...\n",
            "2  <s>[INST] Como monitorar e modificar laudos? [...\n",
            "3  <s>[INST] Como pular o exame [/INST] Todos os ...\n",
            "4  <s>[INST] Como pular o invalidar? [/INST] No c...\n"
          ]
        }
      ]
    },
    {
      "cell_type": "markdown",
      "source": [],
      "metadata": {
        "id": "PYfOSinlNEgy"
      }
    },
    {
      "cell_type": "code",
      "source": [
        "dataset = Dataset.from_pandas(df)\n"
      ],
      "metadata": {
        "id": "cXK1zTkhKSSG"
      },
      "execution_count": null,
      "outputs": []
    },
    {
      "cell_type": "code",
      "source": [
        "df.to_csv('data_telemedicina.csv', index=False)\n",
        "\n",
        "# Salvar o DataFrame em Parquet\n",
        "df.to_parquet('data_telemedicina.parquet', index=False)"
      ],
      "metadata": {
        "id": "-flVkA7yM4bu"
      },
      "execution_count": null,
      "outputs": []
    },
    {
      "cell_type": "code",
      "source": [
        "print(dataset)\n"
      ],
      "metadata": {
        "colab": {
          "base_uri": "https://localhost:8080/"
        },
        "id": "sVd49ePmKT76",
        "outputId": "62ca0d4d-42e3-40a2-cdce-c621febb477b"
      },
      "execution_count": null,
      "outputs": [
        {
          "output_type": "stream",
          "name": "stdout",
          "text": [
            "Dataset({\n",
            "    features: ['text'],\n",
            "    num_rows: 78\n",
            "})\n"
          ]
        }
      ]
    },
    {
      "cell_type": "code",
      "source": [
        "# Verificar a descrição do Dataset\n",
        "print(dataset.features)\n",
        "print(f\"Number of rows: {len(dataset)}\")\n",
        "\n",
        "# Verificar se há valores nulos\n",
        "print(df.isnull().sum())"
      ],
      "metadata": {
        "colab": {
          "base_uri": "https://localhost:8080/"
        },
        "id": "U1tznedcKyi5",
        "outputId": "1870a022-2fb0-475b-8bb7-4766467a92c2"
      },
      "execution_count": null,
      "outputs": [
        {
          "output_type": "stream",
          "name": "stdout",
          "text": [
            "{'text': Value(dtype='string', id=None)}\n",
            "Number of rows: 78\n",
            "text    0\n",
            "dtype: int64\n"
          ]
        }
      ]
    },
    {
      "cell_type": "code",
      "source": [
        "dataset.save_to_disk('data_telemed_dataset')"
      ],
      "metadata": {
        "colab": {
          "base_uri": "https://localhost:8080/",
          "height": 49,
          "referenced_widgets": [
            "bea4960b98fb46f8ad2bdf7e300bfdb6",
            "7c3e6764d20a4b31afdef78c7724a53b",
            "6d54a794a5c940a1828edbd3d4527535",
            "34681594eeaa452892c35d50d1f4f3f2",
            "72fbd23e2d614fa08e9d3424d12b9665",
            "fc77ca1f7c6949dd9b9b838b7ab17f66",
            "6e321e5c0da147cd8784434ead5467c1",
            "bdaed7aef8a44e7ab2d9929d62ceb917",
            "71250b7e51e7472b9381a9bf743a04ee",
            "3eb74380108f4570a4633d3e93b26d6a",
            "01d83294f2c741c091ca1fe4997ed031"
          ]
        },
        "id": "_Q_jCYkWLDAc",
        "outputId": "da41703d-23e3-4668-96f8-4b5121e0c13c"
      },
      "execution_count": null,
      "outputs": [
        {
          "output_type": "display_data",
          "data": {
            "text/plain": [
              "Saving the dataset (0/1 shards):   0%|          | 0/78 [00:00<?, ? examples/s]"
            ],
            "application/vnd.jupyter.widget-view+json": {
              "version_major": 2,
              "version_minor": 0,
              "model_id": "bea4960b98fb46f8ad2bdf7e300bfdb6"
            }
          },
          "metadata": {}
        }
      ]
    },
    {
      "cell_type": "markdown",
      "source": [
        "# **Formato JSON**\n",
        "\n",
        "- O dataset foi convertido para o formato JSON para melhor compatibilidade e facilidade de uso em diferentes aplicações de machine learning.\n",
        "- Leveza e Flexibilidade: JSON é um formato leve e flexível, ideal para a transferência de dados entre sistemas.\n",
        "- Compatibilidade: JSON é amplamente utilizado em APIs e diversas aplicações de machine learning, facilitando a integração e o uso dos dados.\n",
        "- Facilidade de Leitura: JSON é fácil de ler e escrever, tanto para humanos quanto para máquinas, o que facilita o desenvolvimento e a manutenção do código.\n",
        "\n",
        "\n"
      ],
      "metadata": {
        "id": "mjKcQHsuI94L"
      }
    },
    {
      "cell_type": "code",
      "source": [
        "import pandas as pd\n",
        "from google.colab import files\n",
        "\n",
        "# Definir os dados para o DataFrame\n",
        "data = {\n",
        "    \"pergunta\": [\n",
        "        \"Como adicionar descritores?\",\n",
        "        \"Como finalizar a emissão do laudo?\",\n",
        "        \"Como monitorar e modificar laudos?\",\n",
        "        \"Como pular o exame?\",\n",
        "        \"Como pular o invalidar?\",\n",
        "        \"Quais são as etapas para emissão do laudo?\",\n",
        "        \"Quais são os tipos de fotos solicitadas pelos protocolos?\",\n",
        "        \"Quais são os procedimentos que o médico laudador deve realizar ao avaliar as fotos de um exame?\",\n",
        "        \"Meu cadastro foi aprovado, e agora?\",\n",
        "        \"Como solicitar capacitação?\"\n",
        "    ],\n",
        "    \"resposta\": [\n",
        "        \"Apesar deste não ser um campo obrigatório, é possível que, se julgar relevante, o especialista adicione os descritores CID-10 e/ou DECS.\",\n",
        "        \"No canto inferior da página, logo abaixo ao espaço dos descritores, é possível encontrar o botão 'Publicar'. Para finalizar o envio do laudo, basta clicar neste botão, conferir as informações do laudo e, se estiver tudo correto, publicar o laudo definitivamente.\",\n",
        "        \"No ícone EXAMES, a intenção é que o laudador tenha acesso a todos seus registros de exames laudados, mas, além disso, esta página permite ao laudador que um laudo seja editado conforme a necessidade. Para encontrar um exame específico, pode-se utilizar os filtros destacados na imagem abaixo, ex.: período de tempo: data do exame ou data do laudo.\",\n",
        "        \"Todos os exames da rede do usuário são organizados em uma fila conforme a data de inserção do exame no sistema. Quando houver alguma dúvida ou dificuldade em relação ao laudo de um exame, utilizando o botão 'próximo exame' é possível avançar para o próximo da fila, deixando o anterior para ser laudado em outro momento.\",\n",
        "        \"No canto superior direito da página de laudo, são disponibilizados os botões 'invalidar' e 'próximo exame' para serem utilizados, quando necessário. INVALIDAR: Ao clicar no botão 'invalidar', um novo espaço (conforme representação abaixo) se abre para que seja escolhido (entre as opções dadas pelo sistema) o motivo da invalidação.\",\n",
        "        \"Este é um processo bastante simples. Na página de laudo, sempre constará o primeiro exame da fila com laudo pendente. Esta ordem deve ser respeitada, no entanto, é possível avançar para o próximo exame caso houver alguma dificuldade sobre o exame mostrado.\",\n",
        "        \"FOTO PARONÂMICA: CORPO ANTERIOR E POSTERIOR Estas duas fotos são requeridas somente no protocolo outras dermatoses. O paciente deve vestir trajes de banho. A cabeça não precisa aparecer. A foto deve ser do queixo e da nuca para baixo, exceto nos casos onde a lesão fica na cabeça, como no exemplo deste manual.\",\n",
        "        \"O médico laudador, além de avaliá-las, precisa conferir se estão de acordo com o que o protocolo exige. Nos casos em que as imagens não correspondem ao que o protocolo requere, o exame pode ser invalidado por esta razão.\",\n",
        "        \"Ao ter o cadastro aprovado, os dados de acesso (usuário e senha) serão encaminhados para o e-mail cadastrado. Além dos dados de acesso, neste e-mail constará o link de direcionamento à página de acesso ao sistema.\",\n",
        "        \"Para ser habilitado como laudador para a Teledermatologia, é indispensável a capacitação do profissional. As capacitações são encontros voltados à instrução inicial do profissional sobre suas atividades de Teledermatologia.\"\n",
        "    ]\n",
        "}\n",
        "\n",
        "# Criar DataFrame\n",
        "df = pd.DataFrame(data)\n",
        "\n",
        "# Salvar DataFrame em CSV\n",
        "df.to_csv('/content/train.csv', index=False)\n"
      ],
      "metadata": {
        "id": "jPWX9N8Rt42P"
      },
      "execution_count": null,
      "outputs": []
    },
    {
      "cell_type": "markdown",
      "source": [
        "# **Para mais informações sobre a criação e visualização de datasets, consulte a documentação do Hugging Face: https://huggingface.co/docs/hub/datasets-viewer:**"
      ],
      "metadata": {
        "id": "dbAJiWUbKASW"
      }
    }
  ],
  "metadata": {
    "accelerator": "GPU",
    "colab": {
      "gpuType": "T4",
      "provenance": [],
      "include_colab_link": true
    },
    "kernelspec": {
      "display_name": "Python 3",
      "name": "python3"
    },
    "language_info": {
      "name": "python"
    },
    "widgets": {
      "application/vnd.jupyter.widget-state+json": {
        "bea4960b98fb46f8ad2bdf7e300bfdb6": {
          "model_module": "@jupyter-widgets/controls",
          "model_name": "HBoxModel",
          "model_module_version": "1.5.0",
          "state": {
            "_dom_classes": [],
            "_model_module": "@jupyter-widgets/controls",
            "_model_module_version": "1.5.0",
            "_model_name": "HBoxModel",
            "_view_count": null,
            "_view_module": "@jupyter-widgets/controls",
            "_view_module_version": "1.5.0",
            "_view_name": "HBoxView",
            "box_style": "",
            "children": [
              "IPY_MODEL_7c3e6764d20a4b31afdef78c7724a53b",
              "IPY_MODEL_6d54a794a5c940a1828edbd3d4527535",
              "IPY_MODEL_34681594eeaa452892c35d50d1f4f3f2"
            ],
            "layout": "IPY_MODEL_72fbd23e2d614fa08e9d3424d12b9665"
          }
        },
        "7c3e6764d20a4b31afdef78c7724a53b": {
          "model_module": "@jupyter-widgets/controls",
          "model_name": "HTMLModel",
          "model_module_version": "1.5.0",
          "state": {
            "_dom_classes": [],
            "_model_module": "@jupyter-widgets/controls",
            "_model_module_version": "1.5.0",
            "_model_name": "HTMLModel",
            "_view_count": null,
            "_view_module": "@jupyter-widgets/controls",
            "_view_module_version": "1.5.0",
            "_view_name": "HTMLView",
            "description": "",
            "description_tooltip": null,
            "layout": "IPY_MODEL_fc77ca1f7c6949dd9b9b838b7ab17f66",
            "placeholder": "​",
            "style": "IPY_MODEL_6e321e5c0da147cd8784434ead5467c1",
            "value": "Saving the dataset (1/1 shards): 100%"
          }
        },
        "6d54a794a5c940a1828edbd3d4527535": {
          "model_module": "@jupyter-widgets/controls",
          "model_name": "FloatProgressModel",
          "model_module_version": "1.5.0",
          "state": {
            "_dom_classes": [],
            "_model_module": "@jupyter-widgets/controls",
            "_model_module_version": "1.5.0",
            "_model_name": "FloatProgressModel",
            "_view_count": null,
            "_view_module": "@jupyter-widgets/controls",
            "_view_module_version": "1.5.0",
            "_view_name": "ProgressView",
            "bar_style": "success",
            "description": "",
            "description_tooltip": null,
            "layout": "IPY_MODEL_bdaed7aef8a44e7ab2d9929d62ceb917",
            "max": 78,
            "min": 0,
            "orientation": "horizontal",
            "style": "IPY_MODEL_71250b7e51e7472b9381a9bf743a04ee",
            "value": 78
          }
        },
        "34681594eeaa452892c35d50d1f4f3f2": {
          "model_module": "@jupyter-widgets/controls",
          "model_name": "HTMLModel",
          "model_module_version": "1.5.0",
          "state": {
            "_dom_classes": [],
            "_model_module": "@jupyter-widgets/controls",
            "_model_module_version": "1.5.0",
            "_model_name": "HTMLModel",
            "_view_count": null,
            "_view_module": "@jupyter-widgets/controls",
            "_view_module_version": "1.5.0",
            "_view_name": "HTMLView",
            "description": "",
            "description_tooltip": null,
            "layout": "IPY_MODEL_3eb74380108f4570a4633d3e93b26d6a",
            "placeholder": "​",
            "style": "IPY_MODEL_01d83294f2c741c091ca1fe4997ed031",
            "value": " 78/78 [00:00&lt;00:00, 2769.67 examples/s]"
          }
        },
        "72fbd23e2d614fa08e9d3424d12b9665": {
          "model_module": "@jupyter-widgets/base",
          "model_name": "LayoutModel",
          "model_module_version": "1.2.0",
          "state": {
            "_model_module": "@jupyter-widgets/base",
            "_model_module_version": "1.2.0",
            "_model_name": "LayoutModel",
            "_view_count": null,
            "_view_module": "@jupyter-widgets/base",
            "_view_module_version": "1.2.0",
            "_view_name": "LayoutView",
            "align_content": null,
            "align_items": null,
            "align_self": null,
            "border": null,
            "bottom": null,
            "display": null,
            "flex": null,
            "flex_flow": null,
            "grid_area": null,
            "grid_auto_columns": null,
            "grid_auto_flow": null,
            "grid_auto_rows": null,
            "grid_column": null,
            "grid_gap": null,
            "grid_row": null,
            "grid_template_areas": null,
            "grid_template_columns": null,
            "grid_template_rows": null,
            "height": null,
            "justify_content": null,
            "justify_items": null,
            "left": null,
            "margin": null,
            "max_height": null,
            "max_width": null,
            "min_height": null,
            "min_width": null,
            "object_fit": null,
            "object_position": null,
            "order": null,
            "overflow": null,
            "overflow_x": null,
            "overflow_y": null,
            "padding": null,
            "right": null,
            "top": null,
            "visibility": null,
            "width": null
          }
        },
        "fc77ca1f7c6949dd9b9b838b7ab17f66": {
          "model_module": "@jupyter-widgets/base",
          "model_name": "LayoutModel",
          "model_module_version": "1.2.0",
          "state": {
            "_model_module": "@jupyter-widgets/base",
            "_model_module_version": "1.2.0",
            "_model_name": "LayoutModel",
            "_view_count": null,
            "_view_module": "@jupyter-widgets/base",
            "_view_module_version": "1.2.0",
            "_view_name": "LayoutView",
            "align_content": null,
            "align_items": null,
            "align_self": null,
            "border": null,
            "bottom": null,
            "display": null,
            "flex": null,
            "flex_flow": null,
            "grid_area": null,
            "grid_auto_columns": null,
            "grid_auto_flow": null,
            "grid_auto_rows": null,
            "grid_column": null,
            "grid_gap": null,
            "grid_row": null,
            "grid_template_areas": null,
            "grid_template_columns": null,
            "grid_template_rows": null,
            "height": null,
            "justify_content": null,
            "justify_items": null,
            "left": null,
            "margin": null,
            "max_height": null,
            "max_width": null,
            "min_height": null,
            "min_width": null,
            "object_fit": null,
            "object_position": null,
            "order": null,
            "overflow": null,
            "overflow_x": null,
            "overflow_y": null,
            "padding": null,
            "right": null,
            "top": null,
            "visibility": null,
            "width": null
          }
        },
        "6e321e5c0da147cd8784434ead5467c1": {
          "model_module": "@jupyter-widgets/controls",
          "model_name": "DescriptionStyleModel",
          "model_module_version": "1.5.0",
          "state": {
            "_model_module": "@jupyter-widgets/controls",
            "_model_module_version": "1.5.0",
            "_model_name": "DescriptionStyleModel",
            "_view_count": null,
            "_view_module": "@jupyter-widgets/base",
            "_view_module_version": "1.2.0",
            "_view_name": "StyleView",
            "description_width": ""
          }
        },
        "bdaed7aef8a44e7ab2d9929d62ceb917": {
          "model_module": "@jupyter-widgets/base",
          "model_name": "LayoutModel",
          "model_module_version": "1.2.0",
          "state": {
            "_model_module": "@jupyter-widgets/base",
            "_model_module_version": "1.2.0",
            "_model_name": "LayoutModel",
            "_view_count": null,
            "_view_module": "@jupyter-widgets/base",
            "_view_module_version": "1.2.0",
            "_view_name": "LayoutView",
            "align_content": null,
            "align_items": null,
            "align_self": null,
            "border": null,
            "bottom": null,
            "display": null,
            "flex": null,
            "flex_flow": null,
            "grid_area": null,
            "grid_auto_columns": null,
            "grid_auto_flow": null,
            "grid_auto_rows": null,
            "grid_column": null,
            "grid_gap": null,
            "grid_row": null,
            "grid_template_areas": null,
            "grid_template_columns": null,
            "grid_template_rows": null,
            "height": null,
            "justify_content": null,
            "justify_items": null,
            "left": null,
            "margin": null,
            "max_height": null,
            "max_width": null,
            "min_height": null,
            "min_width": null,
            "object_fit": null,
            "object_position": null,
            "order": null,
            "overflow": null,
            "overflow_x": null,
            "overflow_y": null,
            "padding": null,
            "right": null,
            "top": null,
            "visibility": null,
            "width": null
          }
        },
        "71250b7e51e7472b9381a9bf743a04ee": {
          "model_module": "@jupyter-widgets/controls",
          "model_name": "ProgressStyleModel",
          "model_module_version": "1.5.0",
          "state": {
            "_model_module": "@jupyter-widgets/controls",
            "_model_module_version": "1.5.0",
            "_model_name": "ProgressStyleModel",
            "_view_count": null,
            "_view_module": "@jupyter-widgets/base",
            "_view_module_version": "1.2.0",
            "_view_name": "StyleView",
            "bar_color": null,
            "description_width": ""
          }
        },
        "3eb74380108f4570a4633d3e93b26d6a": {
          "model_module": "@jupyter-widgets/base",
          "model_name": "LayoutModel",
          "model_module_version": "1.2.0",
          "state": {
            "_model_module": "@jupyter-widgets/base",
            "_model_module_version": "1.2.0",
            "_model_name": "LayoutModel",
            "_view_count": null,
            "_view_module": "@jupyter-widgets/base",
            "_view_module_version": "1.2.0",
            "_view_name": "LayoutView",
            "align_content": null,
            "align_items": null,
            "align_self": null,
            "border": null,
            "bottom": null,
            "display": null,
            "flex": null,
            "flex_flow": null,
            "grid_area": null,
            "grid_auto_columns": null,
            "grid_auto_flow": null,
            "grid_auto_rows": null,
            "grid_column": null,
            "grid_gap": null,
            "grid_row": null,
            "grid_template_areas": null,
            "grid_template_columns": null,
            "grid_template_rows": null,
            "height": null,
            "justify_content": null,
            "justify_items": null,
            "left": null,
            "margin": null,
            "max_height": null,
            "max_width": null,
            "min_height": null,
            "min_width": null,
            "object_fit": null,
            "object_position": null,
            "order": null,
            "overflow": null,
            "overflow_x": null,
            "overflow_y": null,
            "padding": null,
            "right": null,
            "top": null,
            "visibility": null,
            "width": null
          }
        },
        "01d83294f2c741c091ca1fe4997ed031": {
          "model_module": "@jupyter-widgets/controls",
          "model_name": "DescriptionStyleModel",
          "model_module_version": "1.5.0",
          "state": {
            "_model_module": "@jupyter-widgets/controls",
            "_model_module_version": "1.5.0",
            "_model_name": "DescriptionStyleModel",
            "_view_count": null,
            "_view_module": "@jupyter-widgets/base",
            "_view_module_version": "1.2.0",
            "_view_name": "StyleView",
            "description_width": ""
          }
        }
      }
    }
  },
  "nbformat": 4,
  "nbformat_minor": 0
}