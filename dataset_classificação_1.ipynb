{
  "nbformat": 4,
  "nbformat_minor": 0,
  "metadata": {
    "colab": {
      "provenance": [],
      "mount_file_id": "14eTO3Lkcga7O2o4HWBtMtSTOcpC0dDT-",
      "authorship_tag": "ABX9TyPraEw16NReCq6x2SMIlo5G",
      "include_colab_link": true
    },
    "kernelspec": {
      "name": "python3",
      "display_name": "Python 3"
    },
    "language_info": {
      "name": "python"
    }
  },
  "cells": [
    {
      "cell_type": "markdown",
      "metadata": {
        "id": "view-in-github",
        "colab_type": "text"
      },
      "source": [
        "<a href=\"https://colab.research.google.com/github/Brunapupo/llama2/blob/main/dataset_classifica%C3%A7%C3%A3o_1.ipynb\" target=\"_parent\"><img src=\"https://colab.research.google.com/assets/colab-badge.svg\" alt=\"Open In Colab\"/></a>"
      ]
    },
    {
      "cell_type": "code",
      "source": [
        "import nltk\n",
        "import nltk.corpus\n",
        "from nltk.stem import RSLPStemmer\n",
        "from nltk.tokenize import sent_tokenize\n",
        "from string import punctuation\n",
        "from collections import defaultdict\n",
        "from heapq import nlargest\n",
        "from nltk.tokenize import word_tokenize, sent_tokenize\n",
        "from wordcloud import WordCloud, STOPWORDS, ImageColorGenerator\n",
        "from nltk.probability import FreqDist\n",
        "from nltk.stem import WordNetLemmatizer\n",
        "from nltk.corpus import floresta\n",
        "from nltk.corpus import machado\n",
        "from bs4 import BeautifulStoneSoup, BeautifulSoup\n",
        "import cgi"
      ],
      "metadata": {
        "id": "x5WJRX-_ZOCn"
      },
      "execution_count": 2,
      "outputs": []
    },
    {
      "cell_type": "code",
      "execution_count": 1,
      "metadata": {
        "colab": {
          "base_uri": "https://localhost:8080/",
          "height": 620
        },
        "id": "TEV9KUVHU7xJ",
        "outputId": "6e445e05-e8ff-4ad4-8dc4-629d02aabac2"
      },
      "outputs": [
        {
          "output_type": "stream",
          "name": "stdout",
          "text": [
            "Drive already mounted at /content/drive; to attempt to forcibly remount, call drive.mount(\"/content/drive\", force_remount=True).\n"
          ]
        },
        {
          "output_type": "execute_result",
          "data": {
            "text/plain": [
              "   Unnamed: 0                                           pergunta  \\\n",
              "0           0  \"em anexo  \\ncurativo [|PACIENTE|] a [|PACIENT...   \n",
              "1          13   [|PACIENTE|] teve febre reumática aos 5 anos ...   \n",
              "2          21  \"criança com 10 meses, refere episodio de aler...   \n",
              "3          37  \"26 anos\\n\\n#consulta médica\\n\\n#tabagista 10c...   \n",
              "4          42  \"se há necessidade de revisão e/ou acompanhame...   \n",
              "\n",
              "                                            resposta  \\\n",
              "0  \"boa tarde enfª [|PACIENTE|] y, \\n\\n\\n\\nanexo ...   \n",
              "1  \"a duração da profilaxia depende da idade do p...   \n",
              "2  \"thalia, por ser cultivada em ovos embrionados...   \n",
              "3  \"raisa, o ministério da saúde preconiza que os...   \n",
              "4  \"prezado colega\\n\\na manutenção da fav em paci...   \n",
              "\n",
              "                                             assunto          tipo  \\\n",
              "0  \"curativo [|PACIENTE|] a [|PACIENTE|]  [|PACIE...  \"assíncrona\"   \n",
              "1                       \"profilaxia febre reumática\"  \"assíncrona\"   \n",
              "2                                    \"alergia a ovo\"  \"assíncrona\"   \n",
              "3             \"gravidez ectópica x anticoncepcional\"  \"assíncrona\"   \n",
              "4                           \"fistula arterio venosa\"  \"assíncrona\"   \n",
              "\n",
              "               classificacao                           especificacao  \\\n",
              "0  \"dúvidas clínicas gerais\"                              \"s - pele\"   \n",
              "1  \"dúvidas clínicas gerais\"             \"k - aparelho circulatório\"   \n",
              "2  \"dúvidas clínicas gerais\"            \"a - geral e não-específico\"   \n",
              "3  \"dúvidas clínicas gerais\"  \"w - gravidez e planejamento familiar\"   \n",
              "4  \"dúvidas clínicas gerais\"                 \"u - aparelho urinário\"   \n",
              "\n",
              "                                        detalhamento cid10   satisfacao_geral  \\\n",
              "0   \"56 - curativo/bandagem/compressão/tamponamento\"    \"\"                 \"\"   \n",
              "1     \"99 - outras doenças do aparelho circulatório\"    \"\"  \"insatisfeito(a)\"   \n",
              "2                  \"92 - alergia/reação alérgica ne\"    \"\"    \"satisfeito(a)\"   \n",
              "3                           \"80 - gravidez ectópica\"    \"\"    \"satisfeito(a)\"   \n",
              "4  \"67 - referenciado para médico/especialista/cl...    \"\"                 \"\"   \n",
              "\n",
              "   ... Unnamed: 18 Unnamed: 19 Unnamed: 20 Unnamed: 21 Unnamed: 22  \\\n",
              "0  ...         NaN         NaN         NaN         NaN         NaN   \n",
              "1  ...         NaN         NaN         NaN         NaN         NaN   \n",
              "2  ...         NaN         NaN         NaN         NaN         NaN   \n",
              "3  ...         NaN         NaN         NaN         NaN         NaN   \n",
              "4  ...         NaN         NaN         NaN         NaN         NaN   \n",
              "\n",
              "  Unnamed: 23 Unnamed: 24 Unnamed: 25 Unnamed: 26 Unnamed: 27  \n",
              "0         NaN         NaN         NaN         NaN         NaN  \n",
              "1         NaN         NaN         NaN         NaN         NaN  \n",
              "2         NaN         NaN         NaN         NaN         NaN  \n",
              "3         NaN         NaN         NaN         NaN         NaN  \n",
              "4         NaN         NaN         NaN         NaN         NaN  \n",
              "\n",
              "[5 rows x 28 columns]"
            ],
            "text/html": [
              "\n",
              "  <div id=\"df-47ae3866-dec1-4d06-9da4-71536ba3e405\" class=\"colab-df-container\">\n",
              "    <div>\n",
              "<style scoped>\n",
              "    .dataframe tbody tr th:only-of-type {\n",
              "        vertical-align: middle;\n",
              "    }\n",
              "\n",
              "    .dataframe tbody tr th {\n",
              "        vertical-align: top;\n",
              "    }\n",
              "\n",
              "    .dataframe thead th {\n",
              "        text-align: right;\n",
              "    }\n",
              "</style>\n",
              "<table border=\"1\" class=\"dataframe\">\n",
              "  <thead>\n",
              "    <tr style=\"text-align: right;\">\n",
              "      <th></th>\n",
              "      <th>Unnamed: 0</th>\n",
              "      <th>pergunta</th>\n",
              "      <th>resposta</th>\n",
              "      <th>assunto</th>\n",
              "      <th>tipo</th>\n",
              "      <th>classificacao</th>\n",
              "      <th>especificacao</th>\n",
              "      <th>detalhamento</th>\n",
              "      <th>cid10</th>\n",
              "      <th>satisfacao_geral</th>\n",
              "      <th>...</th>\n",
              "      <th>Unnamed: 18</th>\n",
              "      <th>Unnamed: 19</th>\n",
              "      <th>Unnamed: 20</th>\n",
              "      <th>Unnamed: 21</th>\n",
              "      <th>Unnamed: 22</th>\n",
              "      <th>Unnamed: 23</th>\n",
              "      <th>Unnamed: 24</th>\n",
              "      <th>Unnamed: 25</th>\n",
              "      <th>Unnamed: 26</th>\n",
              "      <th>Unnamed: 27</th>\n",
              "    </tr>\n",
              "  </thead>\n",
              "  <tbody>\n",
              "    <tr>\n",
              "      <th>0</th>\n",
              "      <td>0</td>\n",
              "      <td>\"em anexo  \\ncurativo [|PACIENTE|] a [|PACIENT...</td>\n",
              "      <td>\"boa tarde enfª [|PACIENTE|] y, \\n\\n\\n\\nanexo ...</td>\n",
              "      <td>\"curativo [|PACIENTE|] a [|PACIENTE|]  [|PACIE...</td>\n",
              "      <td>\"assíncrona\"</td>\n",
              "      <td>\"dúvidas clínicas gerais\"</td>\n",
              "      <td>\"s - pele\"</td>\n",
              "      <td>\"56 - curativo/bandagem/compressão/tamponamento\"</td>\n",
              "      <td>\"\"</td>\n",
              "      <td>\"\"</td>\n",
              "      <td>...</td>\n",
              "      <td>NaN</td>\n",
              "      <td>NaN</td>\n",
              "      <td>NaN</td>\n",
              "      <td>NaN</td>\n",
              "      <td>NaN</td>\n",
              "      <td>NaN</td>\n",
              "      <td>NaN</td>\n",
              "      <td>NaN</td>\n",
              "      <td>NaN</td>\n",
              "      <td>NaN</td>\n",
              "    </tr>\n",
              "    <tr>\n",
              "      <th>1</th>\n",
              "      <td>13</td>\n",
              "      <td>[|PACIENTE|] teve febre reumática aos 5 anos ...</td>\n",
              "      <td>\"a duração da profilaxia depende da idade do p...</td>\n",
              "      <td>\"profilaxia febre reumática\"</td>\n",
              "      <td>\"assíncrona\"</td>\n",
              "      <td>\"dúvidas clínicas gerais\"</td>\n",
              "      <td>\"k - aparelho circulatório\"</td>\n",
              "      <td>\"99 - outras doenças do aparelho circulatório\"</td>\n",
              "      <td>\"\"</td>\n",
              "      <td>\"insatisfeito(a)\"</td>\n",
              "      <td>...</td>\n",
              "      <td>NaN</td>\n",
              "      <td>NaN</td>\n",
              "      <td>NaN</td>\n",
              "      <td>NaN</td>\n",
              "      <td>NaN</td>\n",
              "      <td>NaN</td>\n",
              "      <td>NaN</td>\n",
              "      <td>NaN</td>\n",
              "      <td>NaN</td>\n",
              "      <td>NaN</td>\n",
              "    </tr>\n",
              "    <tr>\n",
              "      <th>2</th>\n",
              "      <td>21</td>\n",
              "      <td>\"criança com 10 meses, refere episodio de aler...</td>\n",
              "      <td>\"thalia, por ser cultivada em ovos embrionados...</td>\n",
              "      <td>\"alergia a ovo\"</td>\n",
              "      <td>\"assíncrona\"</td>\n",
              "      <td>\"dúvidas clínicas gerais\"</td>\n",
              "      <td>\"a - geral e não-específico\"</td>\n",
              "      <td>\"92 - alergia/reação alérgica ne\"</td>\n",
              "      <td>\"\"</td>\n",
              "      <td>\"satisfeito(a)\"</td>\n",
              "      <td>...</td>\n",
              "      <td>NaN</td>\n",
              "      <td>NaN</td>\n",
              "      <td>NaN</td>\n",
              "      <td>NaN</td>\n",
              "      <td>NaN</td>\n",
              "      <td>NaN</td>\n",
              "      <td>NaN</td>\n",
              "      <td>NaN</td>\n",
              "      <td>NaN</td>\n",
              "      <td>NaN</td>\n",
              "    </tr>\n",
              "    <tr>\n",
              "      <th>3</th>\n",
              "      <td>37</td>\n",
              "      <td>\"26 anos\\n\\n#consulta médica\\n\\n#tabagista 10c...</td>\n",
              "      <td>\"raisa, o ministério da saúde preconiza que os...</td>\n",
              "      <td>\"gravidez ectópica x anticoncepcional\"</td>\n",
              "      <td>\"assíncrona\"</td>\n",
              "      <td>\"dúvidas clínicas gerais\"</td>\n",
              "      <td>\"w - gravidez e planejamento familiar\"</td>\n",
              "      <td>\"80 - gravidez ectópica\"</td>\n",
              "      <td>\"\"</td>\n",
              "      <td>\"satisfeito(a)\"</td>\n",
              "      <td>...</td>\n",
              "      <td>NaN</td>\n",
              "      <td>NaN</td>\n",
              "      <td>NaN</td>\n",
              "      <td>NaN</td>\n",
              "      <td>NaN</td>\n",
              "      <td>NaN</td>\n",
              "      <td>NaN</td>\n",
              "      <td>NaN</td>\n",
              "      <td>NaN</td>\n",
              "      <td>NaN</td>\n",
              "    </tr>\n",
              "    <tr>\n",
              "      <th>4</th>\n",
              "      <td>42</td>\n",
              "      <td>\"se há necessidade de revisão e/ou acompanhame...</td>\n",
              "      <td>\"prezado colega\\n\\na manutenção da fav em paci...</td>\n",
              "      <td>\"fistula arterio venosa\"</td>\n",
              "      <td>\"assíncrona\"</td>\n",
              "      <td>\"dúvidas clínicas gerais\"</td>\n",
              "      <td>\"u - aparelho urinário\"</td>\n",
              "      <td>\"67 - referenciado para médico/especialista/cl...</td>\n",
              "      <td>\"\"</td>\n",
              "      <td>\"\"</td>\n",
              "      <td>...</td>\n",
              "      <td>NaN</td>\n",
              "      <td>NaN</td>\n",
              "      <td>NaN</td>\n",
              "      <td>NaN</td>\n",
              "      <td>NaN</td>\n",
              "      <td>NaN</td>\n",
              "      <td>NaN</td>\n",
              "      <td>NaN</td>\n",
              "      <td>NaN</td>\n",
              "      <td>NaN</td>\n",
              "    </tr>\n",
              "  </tbody>\n",
              "</table>\n",
              "<p>5 rows × 28 columns</p>\n",
              "</div>\n",
              "    <div class=\"colab-df-buttons\">\n",
              "\n",
              "  <div class=\"colab-df-container\">\n",
              "    <button class=\"colab-df-convert\" onclick=\"convertToInteractive('df-47ae3866-dec1-4d06-9da4-71536ba3e405')\"\n",
              "            title=\"Convert this dataframe to an interactive table.\"\n",
              "            style=\"display:none;\">\n",
              "\n",
              "  <svg xmlns=\"http://www.w3.org/2000/svg\" height=\"24px\" viewBox=\"0 -960 960 960\">\n",
              "    <path d=\"M120-120v-720h720v720H120Zm60-500h600v-160H180v160Zm220 220h160v-160H400v160Zm0 220h160v-160H400v160ZM180-400h160v-160H180v160Zm440 0h160v-160H620v160ZM180-180h160v-160H180v160Zm440 0h160v-160H620v160Z\"/>\n",
              "  </svg>\n",
              "    </button>\n",
              "\n",
              "  <style>\n",
              "    .colab-df-container {\n",
              "      display:flex;\n",
              "      gap: 12px;\n",
              "    }\n",
              "\n",
              "    .colab-df-convert {\n",
              "      background-color: #E8F0FE;\n",
              "      border: none;\n",
              "      border-radius: 50%;\n",
              "      cursor: pointer;\n",
              "      display: none;\n",
              "      fill: #1967D2;\n",
              "      height: 32px;\n",
              "      padding: 0 0 0 0;\n",
              "      width: 32px;\n",
              "    }\n",
              "\n",
              "    .colab-df-convert:hover {\n",
              "      background-color: #E2EBFA;\n",
              "      box-shadow: 0px 1px 2px rgba(60, 64, 67, 0.3), 0px 1px 3px 1px rgba(60, 64, 67, 0.15);\n",
              "      fill: #174EA6;\n",
              "    }\n",
              "\n",
              "    .colab-df-buttons div {\n",
              "      margin-bottom: 4px;\n",
              "    }\n",
              "\n",
              "    [theme=dark] .colab-df-convert {\n",
              "      background-color: #3B4455;\n",
              "      fill: #D2E3FC;\n",
              "    }\n",
              "\n",
              "    [theme=dark] .colab-df-convert:hover {\n",
              "      background-color: #434B5C;\n",
              "      box-shadow: 0px 1px 3px 1px rgba(0, 0, 0, 0.15);\n",
              "      filter: drop-shadow(0px 1px 2px rgba(0, 0, 0, 0.3));\n",
              "      fill: #FFFFFF;\n",
              "    }\n",
              "  </style>\n",
              "\n",
              "    <script>\n",
              "      const buttonEl =\n",
              "        document.querySelector('#df-47ae3866-dec1-4d06-9da4-71536ba3e405 button.colab-df-convert');\n",
              "      buttonEl.style.display =\n",
              "        google.colab.kernel.accessAllowed ? 'block' : 'none';\n",
              "\n",
              "      async function convertToInteractive(key) {\n",
              "        const element = document.querySelector('#df-47ae3866-dec1-4d06-9da4-71536ba3e405');\n",
              "        const dataTable =\n",
              "          await google.colab.kernel.invokeFunction('convertToInteractive',\n",
              "                                                    [key], {});\n",
              "        if (!dataTable) return;\n",
              "\n",
              "        const docLinkHtml = 'Like what you see? Visit the ' +\n",
              "          '<a target=\"_blank\" href=https://colab.research.google.com/notebooks/data_table.ipynb>data table notebook</a>'\n",
              "          + ' to learn more about interactive tables.';\n",
              "        element.innerHTML = '';\n",
              "        dataTable['output_type'] = 'display_data';\n",
              "        await google.colab.output.renderOutput(dataTable, element);\n",
              "        const docLink = document.createElement('div');\n",
              "        docLink.innerHTML = docLinkHtml;\n",
              "        element.appendChild(docLink);\n",
              "      }\n",
              "    </script>\n",
              "  </div>\n",
              "\n",
              "\n",
              "<div id=\"df-5fc742fc-d87f-4096-a9b2-da0988219b31\">\n",
              "  <button class=\"colab-df-quickchart\" onclick=\"quickchart('df-5fc742fc-d87f-4096-a9b2-da0988219b31')\"\n",
              "            title=\"Suggest charts\"\n",
              "            style=\"display:none;\">\n",
              "\n",
              "<svg xmlns=\"http://www.w3.org/2000/svg\" height=\"24px\"viewBox=\"0 0 24 24\"\n",
              "     width=\"24px\">\n",
              "    <g>\n",
              "        <path d=\"M19 3H5c-1.1 0-2 .9-2 2v14c0 1.1.9 2 2 2h14c1.1 0 2-.9 2-2V5c0-1.1-.9-2-2-2zM9 17H7v-7h2v7zm4 0h-2V7h2v10zm4 0h-2v-4h2v4z\"/>\n",
              "    </g>\n",
              "</svg>\n",
              "  </button>\n",
              "\n",
              "<style>\n",
              "  .colab-df-quickchart {\n",
              "      --bg-color: #E8F0FE;\n",
              "      --fill-color: #1967D2;\n",
              "      --hover-bg-color: #E2EBFA;\n",
              "      --hover-fill-color: #174EA6;\n",
              "      --disabled-fill-color: #AAA;\n",
              "      --disabled-bg-color: #DDD;\n",
              "  }\n",
              "\n",
              "  [theme=dark] .colab-df-quickchart {\n",
              "      --bg-color: #3B4455;\n",
              "      --fill-color: #D2E3FC;\n",
              "      --hover-bg-color: #434B5C;\n",
              "      --hover-fill-color: #FFFFFF;\n",
              "      --disabled-bg-color: #3B4455;\n",
              "      --disabled-fill-color: #666;\n",
              "  }\n",
              "\n",
              "  .colab-df-quickchart {\n",
              "    background-color: var(--bg-color);\n",
              "    border: none;\n",
              "    border-radius: 50%;\n",
              "    cursor: pointer;\n",
              "    display: none;\n",
              "    fill: var(--fill-color);\n",
              "    height: 32px;\n",
              "    padding: 0;\n",
              "    width: 32px;\n",
              "  }\n",
              "\n",
              "  .colab-df-quickchart:hover {\n",
              "    background-color: var(--hover-bg-color);\n",
              "    box-shadow: 0 1px 2px rgba(60, 64, 67, 0.3), 0 1px 3px 1px rgba(60, 64, 67, 0.15);\n",
              "    fill: var(--button-hover-fill-color);\n",
              "  }\n",
              "\n",
              "  .colab-df-quickchart-complete:disabled,\n",
              "  .colab-df-quickchart-complete:disabled:hover {\n",
              "    background-color: var(--disabled-bg-color);\n",
              "    fill: var(--disabled-fill-color);\n",
              "    box-shadow: none;\n",
              "  }\n",
              "\n",
              "  .colab-df-spinner {\n",
              "    border: 2px solid var(--fill-color);\n",
              "    border-color: transparent;\n",
              "    border-bottom-color: var(--fill-color);\n",
              "    animation:\n",
              "      spin 1s steps(1) infinite;\n",
              "  }\n",
              "\n",
              "  @keyframes spin {\n",
              "    0% {\n",
              "      border-color: transparent;\n",
              "      border-bottom-color: var(--fill-color);\n",
              "      border-left-color: var(--fill-color);\n",
              "    }\n",
              "    20% {\n",
              "      border-color: transparent;\n",
              "      border-left-color: var(--fill-color);\n",
              "      border-top-color: var(--fill-color);\n",
              "    }\n",
              "    30% {\n",
              "      border-color: transparent;\n",
              "      border-left-color: var(--fill-color);\n",
              "      border-top-color: var(--fill-color);\n",
              "      border-right-color: var(--fill-color);\n",
              "    }\n",
              "    40% {\n",
              "      border-color: transparent;\n",
              "      border-right-color: var(--fill-color);\n",
              "      border-top-color: var(--fill-color);\n",
              "    }\n",
              "    60% {\n",
              "      border-color: transparent;\n",
              "      border-right-color: var(--fill-color);\n",
              "    }\n",
              "    80% {\n",
              "      border-color: transparent;\n",
              "      border-right-color: var(--fill-color);\n",
              "      border-bottom-color: var(--fill-color);\n",
              "    }\n",
              "    90% {\n",
              "      border-color: transparent;\n",
              "      border-bottom-color: var(--fill-color);\n",
              "    }\n",
              "  }\n",
              "</style>\n",
              "\n",
              "  <script>\n",
              "    async function quickchart(key) {\n",
              "      const quickchartButtonEl =\n",
              "        document.querySelector('#' + key + ' button');\n",
              "      quickchartButtonEl.disabled = true;  // To prevent multiple clicks.\n",
              "      quickchartButtonEl.classList.add('colab-df-spinner');\n",
              "      try {\n",
              "        const charts = await google.colab.kernel.invokeFunction(\n",
              "            'suggestCharts', [key], {});\n",
              "      } catch (error) {\n",
              "        console.error('Error during call to suggestCharts:', error);\n",
              "      }\n",
              "      quickchartButtonEl.classList.remove('colab-df-spinner');\n",
              "      quickchartButtonEl.classList.add('colab-df-quickchart-complete');\n",
              "    }\n",
              "    (() => {\n",
              "      let quickchartButtonEl =\n",
              "        document.querySelector('#df-5fc742fc-d87f-4096-a9b2-da0988219b31 button');\n",
              "      quickchartButtonEl.style.display =\n",
              "        google.colab.kernel.accessAllowed ? 'block' : 'none';\n",
              "    })();\n",
              "  </script>\n",
              "</div>\n",
              "\n",
              "    </div>\n",
              "  </div>\n"
            ],
            "application/vnd.google.colaboratory.intrinsic+json": {
              "type": "dataframe",
              "variable_name": "df"
            }
          },
          "metadata": {},
          "execution_count": 1
        }
      ],
      "source": [
        "# Montar o Google Drive\n",
        "from google.colab import drive\n",
        "drive.mount('/content/drive')\n",
        "\n",
        "# Definir o caminho do arquivo no Google Drive\n",
        "file_path = '/content/drive/MyDrive/Documentos-stt/Teleconsultorias-anonimizadas-v1 - Teleconsultorias-anonimizadas-v1 (1).csv'\n",
        "\n",
        "# Carregar o arquivo usando pandas\n",
        "import pandas as pd\n",
        "\n",
        "df = pd.read_csv(file_path)\n",
        "df.head()  # Visualizar as primeiras linhas do dataframe\n"
      ]
    },
    {
      "cell_type": "code",
      "source": [
        "import pandas as pd\n",
        "\n",
        "# Montar o Google Drive\n",
        "from google.colab import drive\n",
        "drive.mount('/content/drive', force_remount=True)\n",
        "\n",
        "# Definir o caminho dos arquivos CSV\n",
        "capitulos_path = '/content/drive/MyDrive/Documentos-stt/Dicionário-de-termos/CID-10-CAPITULOS.CSV'\n",
        "categorias_path = '/content/drive/MyDrive/Documentos-stt/Dicionário-de-termos/CID-10-CATEGORIAS.CSV'\n",
        "grupos_path = '/content/drive/MyDrive/Documentos-stt/Dicionário-de-termos/CID-10-GRUPOS.CSV'\n",
        "subcategorias_path = '/content/drive/MyDrive/Documentos-stt/Dicionário-de-termos/CID-10-SUBCATEGORIAS.CSV'\n",
        "\n",
        "# Carregar os arquivos CSV com codificação 'latin1' e delimitador ';'\n",
        "capitulos_df = pd.read_csv(capitulos_path, encoding='latin1', delimiter=';')\n",
        "categorias_df = pd.read_csv(categorias_path, encoding='latin1', delimiter=';')\n",
        "grupos_df = pd.read_csv(grupos_path, encoding='latin1', delimiter=';')\n",
        "subcategorias_df = pd.read_csv(subcategorias_path, encoding='latin1', delimiter=';')\n",
        "\n",
        "# Extrair termos relevantes para o dicionário\n",
        "termos_cid = set()\n",
        "\n",
        "# Adicionar termos de cada dataframe ao conjunto\n",
        "termos_cid.update(capitulos_df['DESCRICAO'].str.lower().tolist())\n",
        "termos_cid.update(categorias_df['DESCRICAO'].str.lower().tolist())\n",
        "termos_cid.update(grupos_df['DESCRICAO'].str.lower().tolist())\n",
        "termos_cid.update(subcategorias_df['DESCRICAO'].str.lower().tolist())\n",
        "\n",
        "# Remover possíveis NaNs\n",
        "termos_cid = {termo for termo in termos_cid if isinstance(termo, str)}\n",
        "\n",
        "# Visualizar alguns termos\n",
        "print(list(termos_cid)[:20])\n",
        "\n",
        "# Salvar os termos em um novo arquivo CSV\n",
        "termos_cid_df = pd.DataFrame(list(termos_cid), columns=['Termo'])\n",
        "termos_cid_df.to_csv('/content/drive/MyDrive/Documentos-stt/Dicionário-de-termos/termos_cid.csv', index=False)\n",
        "\n",
        "print(\"Dicionário de termos salvo em /content/drive/MyDrive/Documentos-stt/Dicionário-de-termos/termos_cid.csv\")\n"
      ],
      "metadata": {
        "colab": {
          "base_uri": "https://localhost:8080/"
        },
        "id": "TWydSdbZdZob",
        "outputId": "0f16d575-2848-4e08-efea-241566745a37"
      },
      "execution_count": 20,
      "outputs": [
        {
          "output_type": "stream",
          "name": "stdout",
          "text": [
            "Mounted at /content/drive\n"
          ]
        },
        {
          "output_type": "stream",
          "name": "stderr",
          "text": [
            "[nltk_data] Downloading package stopwords to /root/nltk_data...\n",
            "[nltk_data]   Package stopwords is already up-to-date!\n",
            "[nltk_data] Downloading package rslp to /root/nltk_data...\n",
            "[nltk_data]   Package rslp is already up-to-date!\n"
          ]
        },
        {
          "output_type": "stream",
          "name": "stdout",
          "text": [
            "['presbiacus', 'necess imuniz contr algum doenç viral únic', 'rickettsios especific', 'outr dificuldad especific relacion facil médic outr cuid saúd', 'atax cerebel iníci precoc', 'alopéc mucin', 'histór famili doenç pel tec subcutâne', 'compromet pálpebr outr doenç classific outr part', 'pneumon doenç bacteri classific outr part', 'esmagado, empurr pisote mult deband mass pesso rua estr', 'osteocondrodisplas especific anomal cresc oss long colun vertebr', 'amput traumá pern nível especific', 'outr exam geral', 'outr form hipertens secundár', 'artrit reumatóid juvenil', 'ocup caminhonet traum colis tr [comboio] veícul ferrovi condu [motorista] traum acid trânsit', 'pesso esper admit estabelec médic adequ outr part', 'dispar outr arm fog arm fog especificada, intenç determin áre comérci serviç', 'neoplas malign esôfag', 'rifle, espingard arm fog mai tamanh fazend']\n",
            "Dicionário de termos refinado salvo em /content/drive/MyDrive/Documentos-stt/Dicionário-de-termos/termos_cid_refinado.csv\n"
          ]
        }
      ]
    },
    {
      "cell_type": "code",
      "source": [
        "import pandas as pd\n",
        "import nltk\n",
        "from nltk.corpus import stopwords\n",
        "import string\n",
        "\n",
        "# Montar o Google Drive\n",
        "from google.colab import drive\n",
        "drive.mount('/content/drive', force_remount=True)\n",
        "\n",
        "# Definir o caminho dos arquivos CSV\n",
        "capitulos_path = '/content/drive/MyDrive/Documentos-stt/Dicionário-de-termos/CID-10-CAPITULOS.CSV'\n",
        "categorias_path = '/content/drive/MyDrive/Documentos-stt/Dicionário-de-termos/CID-10-CATEGORIAS.CSV'\n",
        "grupos_path = '/content/drive/MyDrive/Documentos-stt/Dicionário-de-termos/CID-10-GRUPOS.CSV'\n",
        "subcategorias_path = '/content/drive/MyDrive/Documentos-stt/Dicionário-de-termos/CID-10-SUBCATEGORIAS.CSV'\n",
        "\n",
        "# Carregar os arquivos CSV com codificação 'latin1' e delimitador ';'\n",
        "capitulos_df = pd.read_csv(capitulos_path, encoding='latin1', delimiter=';')\n",
        "categorias_df = pd.read_csv(categorias_path, encoding='latin1', delimiter=';')\n",
        "grupos_df = pd.read_csv(grupos_path, encoding='latin1', delimiter=';')\n",
        "subcategorias_df = pd.read_csv(subcategorias_path, encoding='latin1', delimiter=';')\n",
        "\n",
        "# Inicializar stop words\n",
        "nltk.download('stopwords')\n",
        "stop_words = set(stopwords.words('portuguese'))\n",
        "\n",
        "# Função para pré-processar os termos\n",
        "def preprocess_term(term):\n",
        "    # Tokenizar e remover pontuação\n",
        "    tokens = [word.strip(string.punctuation) for word in term.split()]\n",
        "    # Remover stop words\n",
        "    filtered_tokens = [token for token in tokens if token.lower() not in stop_words]\n",
        "    return \" \".join(filtered_tokens) if filtered_tokens else None\n",
        "\n",
        "# Extrair e pré-processar termos relevantes para o dicionário\n",
        "termos_cid = set()\n",
        "\n",
        "# Adicionar termos de cada dataframe ao conjunto\n",
        "termos_cid.update(capitulos_df['DESCRICAO'].dropna().str.lower().apply(preprocess_term).dropna().tolist())\n",
        "termos_cid.update(categorias_df['DESCRICAO'].dropna().str.lower().apply(preprocess_term).dropna().tolist())\n",
        "termos_cid.update(grupos_df['DESCRICAO'].dropna().str.lower().apply(preprocess_term).dropna().tolist())\n",
        "termos_cid.update(subcategorias_df['DESCRICAO'].dropna().str.lower().apply(preprocess_term).dropna().tolist())\n",
        "\n",
        "# Remover possíveis termos vazios\n",
        "termos_cid = {termo for termo in termos_cid if termo.strip()}\n",
        "\n",
        "# Visualizar alguns termos\n",
        "print(list(termos_cid)[:20])\n",
        "\n",
        "# Salvar os termos em um arquivo TXT\n",
        "with open('/content/drive/MyDrive/Documentos-stt/Dicionário-de-termos/termos_cid.txt', 'w', encoding='utf-8') as f:\n",
        "    for termo in termos_cid:\n",
        "        f.write(f\"{termo}\\n\")\n",
        "\n",
        "print(\"Dicionário de termos salvo em /content/drive/MyDrive/Documentos-stt/Dicionário-de-termos/termos_cid.txt\")\n"
      ],
      "metadata": {
        "colab": {
          "base_uri": "https://localhost:8080/"
        },
        "id": "20LH_bnkgdPV",
        "outputId": "bd5c642a-362d-4558-ca66-1575d225615a"
      },
      "execution_count": 23,
      "outputs": [
        {
          "output_type": "stream",
          "name": "stdout",
          "text": [
            "Mounted at /content/drive\n",
            "['ocupante triciclo motorizado traumatizado acidente transporte colisão  condutor traumatizado acidente não-de-trânsito', 'encurvamento congênito ossos longos especificados membro inferior', 'calos calosidades', 'auto-intoxicação exposição intencional outras drogas medicamentos substâncias biológicas especificadas', 'outras quedas nível  áreas comércio serviços', 'tromboangeíte obliterante doença buerger', 'traumatismo nervo abducente', 'outras formas carbúnculo', 'ocupante veículo transporte pesado traumatizado colisão veículo pedal  ocupante especificado veículo transporte pesado traumatizado acidente não-de-trânsito', 'motociclista traumatizado colisão veículo transporte pesado ônibus  passageiro traumatizado acidente trânsito', 'hiperparatireoidismo especificado', 'contusão pálpebra região periocular', 'agressão meio disparo arma fogo mão  fazenda', 'impacto acidental ativo passivo causado equipamento esportivo  áreas comércio serviços', 'escoliose toracogênica', 'exame admissão instituição educacional', 'vítima terremoto  rua estrada', 'pneumonia devida streptococcus grupo b', 'tuberculoma meníngeo', 'outras artropatias enteropáticas']\n",
            "Dicionário de termos salvo em /content/drive/MyDrive/Documentos-stt/Dicionário-de-termos/termos_cid.txt\n"
          ]
        },
        {
          "output_type": "stream",
          "name": "stderr",
          "text": [
            "[nltk_data] Downloading package stopwords to /root/nltk_data...\n",
            "[nltk_data]   Package stopwords is already up-to-date!\n"
          ]
        }
      ]
    },
    {
      "cell_type": "code",
      "source": [
        "import pandas as pd\n",
        "import nltk\n",
        "from nltk.corpus import stopwords\n",
        "import string\n",
        "\n",
        "# Montar o Google Drive\n",
        "from google.colab import drive\n",
        "drive.mount('/content/drive', force_remount=True)\n",
        "\n",
        "# Definir o caminho dos arquivos CSV\n",
        "capitulos_path = '/content/drive/MyDrive/Documentos-stt/Dicionário-de-termos/CID-10-CAPITULOS.CSV'\n",
        "categorias_path = '/content/drive/MyDrive/Documentos-stt/Dicionário-de-termos/CID-10-CATEGORIAS.CSV'\n",
        "grupos_path = '/content/drive/MyDrive/Documentos-stt/Dicionário-de-termos/CID-10-GRUPOS.CSV'\n",
        "subcategorias_path = '/content/drive/MyDrive/Documentos-stt/Dicionário-de-termos/CID-10-SUBCATEGORIAS.CSV'\n",
        "\n",
        "# Carregar os arquivos CSV com codificação 'latin1' e delimitador ';'\n",
        "capitulos_df = pd.read_csv(capitulos_path, encoding='latin1', delimiter=';')\n",
        "categorias_df = pd.read_csv(categorias_path, encoding='latin1', delimiter=';')\n",
        "grupos_df = pd.read_csv(grupos_path, encoding='latin1', delimiter=';')\n",
        "subcategorias_df = pd.read_csv(subcategorias_path, encoding='latin1', delimiter=';')\n",
        "\n",
        "# Inicializar stop words\n",
        "nltk.download('stopwords')\n",
        "stop_words = set(stopwords.words('portuguese'))\n",
        "\n",
        "# Função para pré-processar os termos\n",
        "def preprocess_term(term):\n",
        "    # Tokenizar e remover pontuação\n",
        "    tokens = [word.strip(string.punctuation) for word in term.split()]\n",
        "    # Remover stop words\n",
        "    filtered_tokens = [token for token in tokens if token.lower() not in stop_words]\n",
        "    return \" \".join(filtered_tokens) if filtered_tokens else None\n",
        "\n",
        "# Extrair e pré-processar termos relevantes para o dicionário\n",
        "termos_cid = set()\n",
        "\n",
        "# Adicionar termos de cada dataframe ao conjunto\n",
        "termos_cid.update(capitulos_df['DESCRICAO'].dropna().str.lower().apply(preprocess_term).dropna().tolist())\n",
        "termos_cid.update(categorias_df['DESCRICAO'].dropna().str.lower().apply(preprocess_term).dropna().tolist())\n",
        "termos_cid.update(grupos_df['DESCRICAO'].dropna().str.lower().apply(preprocess_term).dropna().tolist())\n",
        "termos_cid.update(subcategorias_df['DESCRICAO'].dropna().str.lower().apply(preprocess_term).dropna().tolist())\n",
        "\n",
        "# Remover possíveis termos vazios\n",
        "termos_cid = {termo for termo in termos_cid if termo.strip()}\n",
        "\n",
        "# Visualizar alguns termos\n",
        "print(list(termos_cid)[:20])\n",
        "\n",
        "# Salvar os termos em um arquivo TXT\n",
        "with open('/content/drive/MyDrive/Documentos-stt/Dicionário-de-termos/termos_cid_refinado.txt', 'w', encoding='utf-8') as f:\n",
        "    for termo in termos_cid:\n",
        "        f.write(f\"{termo}\\n\")\n",
        "\n",
        "print(\"Dicionário de termos refinado salvo em /content/drive/MyDrive/Documentos-stt/Dicionário-de-termos/termos_cid_refinado.txt\")\n"
      ],
      "metadata": {
        "colab": {
          "base_uri": "https://localhost:8080/"
        },
        "id": "xsL7NvF_jyZ7",
        "outputId": "dc686d6a-ec2e-42bb-b178-0e0b7efcc01a"
      },
      "execution_count": 24,
      "outputs": [
        {
          "output_type": "stream",
          "name": "stdout",
          "text": [
            "Mounted at /content/drive\n",
            "['ocupante triciclo motorizado traumatizado acidente transporte colisão  condutor traumatizado acidente não-de-trânsito', 'encurvamento congênito ossos longos especificados membro inferior', 'calos calosidades', 'auto-intoxicação exposição intencional outras drogas medicamentos substâncias biológicas especificadas', 'outras quedas nível  áreas comércio serviços', 'tromboangeíte obliterante doença buerger', 'traumatismo nervo abducente', 'outras formas carbúnculo', 'ocupante veículo transporte pesado traumatizado colisão veículo pedal  ocupante especificado veículo transporte pesado traumatizado acidente não-de-trânsito', 'motociclista traumatizado colisão veículo transporte pesado ônibus  passageiro traumatizado acidente trânsito', 'hiperparatireoidismo especificado', 'contusão pálpebra região periocular', 'agressão meio disparo arma fogo mão  fazenda', 'impacto acidental ativo passivo causado equipamento esportivo  áreas comércio serviços', 'escoliose toracogênica', 'exame admissão instituição educacional', 'vítima terremoto  rua estrada', 'pneumonia devida streptococcus grupo b', 'tuberculoma meníngeo', 'outras artropatias enteropáticas']\n",
            "Dicionário de termos refinado salvo em /content/drive/MyDrive/Documentos-stt/Dicionário-de-termos/termos_cid_refinado.txt\n"
          ]
        },
        {
          "output_type": "stream",
          "name": "stderr",
          "text": [
            "[nltk_data] Downloading package stopwords to /root/nltk_data...\n",
            "[nltk_data]   Package stopwords is already up-to-date!\n"
          ]
        }
      ]
    },
    {
      "cell_type": "markdown",
      "source": [
        "# **2- Extrair Termos Relevantes e Criar um Dicionário de Tokens**\n",
        "Vamos extrair os termos da coluna DESCRICAO e criar um conjunto de tokens:"
      ],
      "metadata": {
        "id": "20ZZt4zheJ2D"
      }
    },
    {
      "cell_type": "code",
      "source": [
        "# Extrair termos relevantes para o dicionário\n",
        "termos_cid = set()\n",
        "\n",
        "# Adicionar termos da coluna 'DESCRICAO' ao conjunto\n",
        "termos_cid.update(categorias_df['DESCRICAO'].str.lower().tolist())\n",
        "\n",
        "# Remover possíveis NaNs\n",
        "termos_cid = {termo for termo in termos_cid if isinstance(termo, str)}\n",
        "\n",
        "# Visualizar alguns termos\n",
        "print(list(termos_cid)[:10])\n"
      ],
      "metadata": {
        "colab": {
          "base_uri": "https://localhost:8080/"
        },
        "id": "sJOzV4OgeQ9Z",
        "outputId": "fad5ee0b-30b0-4fac-ba8f-fdfef12f3d64"
      },
      "execution_count": 16,
      "outputs": [
        {
          "output_type": "stream",
          "name": "stdout",
          "text": [
            "['diarréia e gastroenterite de origem infecciosa presumível', 'transtornos fóbico-ansiosos', 'luxação, entorse e distensão de articulações e dos ligamentos do tórax', 'exame médico e consulta com finalidades administrativas', 'traumatismo de outros órgãos intratorácicos e dos não especificados', 'valor anormal da pressão arterial sem diagnóstico', 'doenças infecciosas e parasitárias maternas classificáveis em outra parte mas que compliquem a gravidez, o parto e o puerpério', 'transtornos de músculo em doenças classificadas em outra parte', 'viagem e movimento', 'neoplasia maligna das meninges']\n"
          ]
        }
      ]
    },
    {
      "cell_type": "markdown",
      "source": [
        "# **stop_words:** Carrega a lista de stopwords em português e adiciona caracteres de pontuação e outras strings irrelevantes à lista."
      ],
      "metadata": {
        "id": "GUoNl-iCZQ4I"
      }
    },
    {
      "cell_type": "code",
      "source": [
        "import nltk\n",
        "\n",
        "# Faça o download dos recursos necessários do NLTK\n",
        "nltk.download('punkt')\n",
        "nltk.download('rslp')\n",
        "nltk.download('stopwords')\n",
        "nltk.download('averaged_perceptron_tagger')\n",
        "nltk.download('floresta')\n",
        "nltk.download('mac_morpho')\n",
        "nltk.download('machado')\n",
        "nltk.download('wordnet')\n",
        "nltk.download('words')\n",
        "\n",
        "# Inicializa o stemmer para português\n",
        "stemmer = RSLPStemmer()\n",
        "# Carrega a lista de stopwords em português\n",
        "stop_words = nltk.corpus.stopwords.words('portuguese')\n",
        "# Adiciona pontuação à lista de stopwords\n",
        "stop_words = stop_words + list(punctuation)\n",
        "stop_words = stop_words + ['\\'\\'', '\\\"\\\"', '\\'', '\\\"', '``', '`', '\\\\n', 'p', '/p',\n",
        "                           'ccedil', 'aacute','eacute','oacute','uacute', 'iacute', 'nbsp', 'br', 'span', '/span', 'otilde', 'atilde', 'div', '/div' ]\n",
        "# Converte a lista de stopwords para um conjunto (para busca rápida)\n",
        "stop_words_set = set(stop_words)\n",
        "\n",
        "class text_color:\n",
        "    PURPLE = '\\033[95m'\n",
        "    CYAN = '\\033[96m'\n",
        "    DARKCYAN = '\\033[36m'\n",
        "    BLUE = '\\033[94m'\n",
        "    GREEN = '\\033[92m'\n",
        "    YELLOW = '\\033[93m'\n",
        "    RED = '\\033[91m'\n",
        "    BOLD = '\\033[1m'\n",
        "    UNDERLINE = '\\033[4m'\n",
        "    END = '\\033[0m'\n"
      ],
      "metadata": {
        "colab": {
          "base_uri": "https://localhost:8080/"
        },
        "id": "x2ZCKLPFZWcO",
        "outputId": "5905630f-cf86-4d37-aa8e-995394f94941"
      },
      "execution_count": 5,
      "outputs": [
        {
          "output_type": "stream",
          "name": "stderr",
          "text": [
            "[nltk_data] Downloading package punkt to /root/nltk_data...\n",
            "[nltk_data]   Package punkt is already up-to-date!\n",
            "[nltk_data] Downloading package rslp to /root/nltk_data...\n",
            "[nltk_data]   Package rslp is already up-to-date!\n",
            "[nltk_data] Downloading package stopwords to /root/nltk_data...\n",
            "[nltk_data]   Package stopwords is already up-to-date!\n",
            "[nltk_data] Downloading package averaged_perceptron_tagger to\n",
            "[nltk_data]     /root/nltk_data...\n",
            "[nltk_data]   Package averaged_perceptron_tagger is already up-to-\n",
            "[nltk_data]       date!\n",
            "[nltk_data] Downloading package floresta to /root/nltk_data...\n",
            "[nltk_data]   Package floresta is already up-to-date!\n",
            "[nltk_data] Downloading package mac_morpho to /root/nltk_data...\n",
            "[nltk_data]   Package mac_morpho is already up-to-date!\n",
            "[nltk_data] Downloading package machado to /root/nltk_data...\n",
            "[nltk_data]   Package machado is already up-to-date!\n",
            "[nltk_data] Downloading package wordnet to /root/nltk_data...\n",
            "[nltk_data]   Package wordnet is already up-to-date!\n",
            "[nltk_data] Downloading package words to /root/nltk_data...\n",
            "[nltk_data]   Package words is already up-to-date!\n"
          ]
        }
      ]
    },
    {
      "cell_type": "markdown",
      "source": [
        "# **Passo 2: Importar SpaCy e Carregar o Modelo**"
      ],
      "metadata": {
        "id": "GqgqNByKaK-t"
      }
    },
    {
      "cell_type": "code",
      "source": [
        "# Instalar o SpaCy e o modelo de linguagem portuguesa\n",
        "!pip install spacy\n",
        "!python -m spacy download pt_core_news_sm\n",
        "\n",
        "import spacy\n",
        "import pt_core_news_sm\n",
        "\n",
        "nlp = pt_core_news_sm.load()\n",
        "\n",
        "# Teste de processamento de texto\n",
        "doc = nlp(\"nódulo tireoidiano\")\n",
        "print([(w.text, w.pos_, w.lemma_) for w in doc])"
      ],
      "metadata": {
        "colab": {
          "base_uri": "https://localhost:8080/"
        },
        "id": "1p_1AiWdaM9g",
        "outputId": "0d95ab23-e87f-48ba-cdbb-5501cd4769fc"
      },
      "execution_count": 7,
      "outputs": [
        {
          "output_type": "stream",
          "name": "stdout",
          "text": [
            "Requirement already satisfied: spacy in /usr/local/lib/python3.10/dist-packages (3.7.5)\n",
            "Requirement already satisfied: spacy-legacy<3.1.0,>=3.0.11 in /usr/local/lib/python3.10/dist-packages (from spacy) (3.0.12)\n",
            "Requirement already satisfied: spacy-loggers<2.0.0,>=1.0.0 in /usr/local/lib/python3.10/dist-packages (from spacy) (1.0.5)\n",
            "Requirement already satisfied: murmurhash<1.1.0,>=0.28.0 in /usr/local/lib/python3.10/dist-packages (from spacy) (1.0.10)\n",
            "Requirement already satisfied: cymem<2.1.0,>=2.0.2 in /usr/local/lib/python3.10/dist-packages (from spacy) (2.0.8)\n",
            "Requirement already satisfied: preshed<3.1.0,>=3.0.2 in /usr/local/lib/python3.10/dist-packages (from spacy) (3.0.9)\n",
            "Requirement already satisfied: thinc<8.3.0,>=8.2.2 in /usr/local/lib/python3.10/dist-packages (from spacy) (8.2.5)\n",
            "Requirement already satisfied: wasabi<1.2.0,>=0.9.1 in /usr/local/lib/python3.10/dist-packages (from spacy) (1.1.3)\n",
            "Requirement already satisfied: srsly<3.0.0,>=2.4.3 in /usr/local/lib/python3.10/dist-packages (from spacy) (2.4.8)\n",
            "Requirement already satisfied: catalogue<2.1.0,>=2.0.6 in /usr/local/lib/python3.10/dist-packages (from spacy) (2.0.10)\n",
            "Requirement already satisfied: weasel<0.5.0,>=0.1.0 in /usr/local/lib/python3.10/dist-packages (from spacy) (0.4.1)\n",
            "Requirement already satisfied: typer<1.0.0,>=0.3.0 in /usr/local/lib/python3.10/dist-packages (from spacy) (0.12.3)\n",
            "Requirement already satisfied: tqdm<5.0.0,>=4.38.0 in /usr/local/lib/python3.10/dist-packages (from spacy) (4.66.4)\n",
            "Requirement already satisfied: requests<3.0.0,>=2.13.0 in /usr/local/lib/python3.10/dist-packages (from spacy) (2.31.0)\n",
            "Requirement already satisfied: pydantic!=1.8,!=1.8.1,<3.0.0,>=1.7.4 in /usr/local/lib/python3.10/dist-packages (from spacy) (2.7.4)\n",
            "Requirement already satisfied: jinja2 in /usr/local/lib/python3.10/dist-packages (from spacy) (3.1.4)\n",
            "Requirement already satisfied: setuptools in /usr/local/lib/python3.10/dist-packages (from spacy) (67.7.2)\n",
            "Requirement already satisfied: packaging>=20.0 in /usr/local/lib/python3.10/dist-packages (from spacy) (24.1)\n",
            "Requirement already satisfied: langcodes<4.0.0,>=3.2.0 in /usr/local/lib/python3.10/dist-packages (from spacy) (3.4.0)\n",
            "Requirement already satisfied: numpy>=1.19.0 in /usr/local/lib/python3.10/dist-packages (from spacy) (1.25.2)\n",
            "Requirement already satisfied: language-data>=1.2 in /usr/local/lib/python3.10/dist-packages (from langcodes<4.0.0,>=3.2.0->spacy) (1.2.0)\n",
            "Requirement already satisfied: annotated-types>=0.4.0 in /usr/local/lib/python3.10/dist-packages (from pydantic!=1.8,!=1.8.1,<3.0.0,>=1.7.4->spacy) (0.7.0)\n",
            "Requirement already satisfied: pydantic-core==2.18.4 in /usr/local/lib/python3.10/dist-packages (from pydantic!=1.8,!=1.8.1,<3.0.0,>=1.7.4->spacy) (2.18.4)\n",
            "Requirement already satisfied: typing-extensions>=4.6.1 in /usr/local/lib/python3.10/dist-packages (from pydantic!=1.8,!=1.8.1,<3.0.0,>=1.7.4->spacy) (4.12.2)\n",
            "Requirement already satisfied: charset-normalizer<4,>=2 in /usr/local/lib/python3.10/dist-packages (from requests<3.0.0,>=2.13.0->spacy) (3.3.2)\n",
            "Requirement already satisfied: idna<4,>=2.5 in /usr/local/lib/python3.10/dist-packages (from requests<3.0.0,>=2.13.0->spacy) (3.7)\n",
            "Requirement already satisfied: urllib3<3,>=1.21.1 in /usr/local/lib/python3.10/dist-packages (from requests<3.0.0,>=2.13.0->spacy) (2.0.7)\n",
            "Requirement already satisfied: certifi>=2017.4.17 in /usr/local/lib/python3.10/dist-packages (from requests<3.0.0,>=2.13.0->spacy) (2024.6.2)\n",
            "Requirement already satisfied: blis<0.8.0,>=0.7.8 in /usr/local/lib/python3.10/dist-packages (from thinc<8.3.0,>=8.2.2->spacy) (0.7.11)\n",
            "Requirement already satisfied: confection<1.0.0,>=0.0.1 in /usr/local/lib/python3.10/dist-packages (from thinc<8.3.0,>=8.2.2->spacy) (0.1.5)\n",
            "Requirement already satisfied: click>=8.0.0 in /usr/local/lib/python3.10/dist-packages (from typer<1.0.0,>=0.3.0->spacy) (8.1.7)\n",
            "Requirement already satisfied: shellingham>=1.3.0 in /usr/local/lib/python3.10/dist-packages (from typer<1.0.0,>=0.3.0->spacy) (1.5.4)\n",
            "Requirement already satisfied: rich>=10.11.0 in /usr/local/lib/python3.10/dist-packages (from typer<1.0.0,>=0.3.0->spacy) (13.7.1)\n",
            "Requirement already satisfied: cloudpathlib<1.0.0,>=0.7.0 in /usr/local/lib/python3.10/dist-packages (from weasel<0.5.0,>=0.1.0->spacy) (0.18.1)\n",
            "Requirement already satisfied: smart-open<8.0.0,>=5.2.1 in /usr/local/lib/python3.10/dist-packages (from weasel<0.5.0,>=0.1.0->spacy) (7.0.4)\n",
            "Requirement already satisfied: MarkupSafe>=2.0 in /usr/local/lib/python3.10/dist-packages (from jinja2->spacy) (2.1.5)\n",
            "Requirement already satisfied: marisa-trie>=0.7.7 in /usr/local/lib/python3.10/dist-packages (from language-data>=1.2->langcodes<4.0.0,>=3.2.0->spacy) (1.2.0)\n",
            "Requirement already satisfied: markdown-it-py>=2.2.0 in /usr/local/lib/python3.10/dist-packages (from rich>=10.11.0->typer<1.0.0,>=0.3.0->spacy) (3.0.0)\n",
            "Requirement already satisfied: pygments<3.0.0,>=2.13.0 in /usr/local/lib/python3.10/dist-packages (from rich>=10.11.0->typer<1.0.0,>=0.3.0->spacy) (2.16.1)\n",
            "Requirement already satisfied: wrapt in /usr/local/lib/python3.10/dist-packages (from smart-open<8.0.0,>=5.2.1->weasel<0.5.0,>=0.1.0->spacy) (1.14.1)\n",
            "Requirement already satisfied: mdurl~=0.1 in /usr/local/lib/python3.10/dist-packages (from markdown-it-py>=2.2.0->rich>=10.11.0->typer<1.0.0,>=0.3.0->spacy) (0.1.2)\n",
            "Collecting pt-core-news-sm==3.7.0\n",
            "  Downloading https://github.com/explosion/spacy-models/releases/download/pt_core_news_sm-3.7.0/pt_core_news_sm-3.7.0-py3-none-any.whl (13.0 MB)\n",
            "\u001b[2K     \u001b[90m━━━━━━━━━━━━━━━━━━━━━━━━━━━━━━━━━━━━━━━━\u001b[0m \u001b[32m13.0/13.0 MB\u001b[0m \u001b[31m64.2 MB/s\u001b[0m eta \u001b[36m0:00:00\u001b[0m\n",
            "\u001b[?25hRequirement already satisfied: spacy<3.8.0,>=3.7.0 in /usr/local/lib/python3.10/dist-packages (from pt-core-news-sm==3.7.0) (3.7.5)\n",
            "Requirement already satisfied: spacy-legacy<3.1.0,>=3.0.11 in /usr/local/lib/python3.10/dist-packages (from spacy<3.8.0,>=3.7.0->pt-core-news-sm==3.7.0) (3.0.12)\n",
            "Requirement already satisfied: spacy-loggers<2.0.0,>=1.0.0 in /usr/local/lib/python3.10/dist-packages (from spacy<3.8.0,>=3.7.0->pt-core-news-sm==3.7.0) (1.0.5)\n",
            "Requirement already satisfied: murmurhash<1.1.0,>=0.28.0 in /usr/local/lib/python3.10/dist-packages (from spacy<3.8.0,>=3.7.0->pt-core-news-sm==3.7.0) (1.0.10)\n",
            "Requirement already satisfied: cymem<2.1.0,>=2.0.2 in /usr/local/lib/python3.10/dist-packages (from spacy<3.8.0,>=3.7.0->pt-core-news-sm==3.7.0) (2.0.8)\n",
            "Requirement already satisfied: preshed<3.1.0,>=3.0.2 in /usr/local/lib/python3.10/dist-packages (from spacy<3.8.0,>=3.7.0->pt-core-news-sm==3.7.0) (3.0.9)\n",
            "Requirement already satisfied: thinc<8.3.0,>=8.2.2 in /usr/local/lib/python3.10/dist-packages (from spacy<3.8.0,>=3.7.0->pt-core-news-sm==3.7.0) (8.2.5)\n",
            "Requirement already satisfied: wasabi<1.2.0,>=0.9.1 in /usr/local/lib/python3.10/dist-packages (from spacy<3.8.0,>=3.7.0->pt-core-news-sm==3.7.0) (1.1.3)\n",
            "Requirement already satisfied: srsly<3.0.0,>=2.4.3 in /usr/local/lib/python3.10/dist-packages (from spacy<3.8.0,>=3.7.0->pt-core-news-sm==3.7.0) (2.4.8)\n",
            "Requirement already satisfied: catalogue<2.1.0,>=2.0.6 in /usr/local/lib/python3.10/dist-packages (from spacy<3.8.0,>=3.7.0->pt-core-news-sm==3.7.0) (2.0.10)\n",
            "Requirement already satisfied: weasel<0.5.0,>=0.1.0 in /usr/local/lib/python3.10/dist-packages (from spacy<3.8.0,>=3.7.0->pt-core-news-sm==3.7.0) (0.4.1)\n",
            "Requirement already satisfied: typer<1.0.0,>=0.3.0 in /usr/local/lib/python3.10/dist-packages (from spacy<3.8.0,>=3.7.0->pt-core-news-sm==3.7.0) (0.12.3)\n",
            "Requirement already satisfied: tqdm<5.0.0,>=4.38.0 in /usr/local/lib/python3.10/dist-packages (from spacy<3.8.0,>=3.7.0->pt-core-news-sm==3.7.0) (4.66.4)\n",
            "Requirement already satisfied: requests<3.0.0,>=2.13.0 in /usr/local/lib/python3.10/dist-packages (from spacy<3.8.0,>=3.7.0->pt-core-news-sm==3.7.0) (2.31.0)\n",
            "Requirement already satisfied: pydantic!=1.8,!=1.8.1,<3.0.0,>=1.7.4 in /usr/local/lib/python3.10/dist-packages (from spacy<3.8.0,>=3.7.0->pt-core-news-sm==3.7.0) (2.7.4)\n",
            "Requirement already satisfied: jinja2 in /usr/local/lib/python3.10/dist-packages (from spacy<3.8.0,>=3.7.0->pt-core-news-sm==3.7.0) (3.1.4)\n",
            "Requirement already satisfied: setuptools in /usr/local/lib/python3.10/dist-packages (from spacy<3.8.0,>=3.7.0->pt-core-news-sm==3.7.0) (67.7.2)\n",
            "Requirement already satisfied: packaging>=20.0 in /usr/local/lib/python3.10/dist-packages (from spacy<3.8.0,>=3.7.0->pt-core-news-sm==3.7.0) (24.1)\n",
            "Requirement already satisfied: langcodes<4.0.0,>=3.2.0 in /usr/local/lib/python3.10/dist-packages (from spacy<3.8.0,>=3.7.0->pt-core-news-sm==3.7.0) (3.4.0)\n",
            "Requirement already satisfied: numpy>=1.19.0 in /usr/local/lib/python3.10/dist-packages (from spacy<3.8.0,>=3.7.0->pt-core-news-sm==3.7.0) (1.25.2)\n",
            "Requirement already satisfied: language-data>=1.2 in /usr/local/lib/python3.10/dist-packages (from langcodes<4.0.0,>=3.2.0->spacy<3.8.0,>=3.7.0->pt-core-news-sm==3.7.0) (1.2.0)\n",
            "Requirement already satisfied: annotated-types>=0.4.0 in /usr/local/lib/python3.10/dist-packages (from pydantic!=1.8,!=1.8.1,<3.0.0,>=1.7.4->spacy<3.8.0,>=3.7.0->pt-core-news-sm==3.7.0) (0.7.0)\n",
            "Requirement already satisfied: pydantic-core==2.18.4 in /usr/local/lib/python3.10/dist-packages (from pydantic!=1.8,!=1.8.1,<3.0.0,>=1.7.4->spacy<3.8.0,>=3.7.0->pt-core-news-sm==3.7.0) (2.18.4)\n",
            "Requirement already satisfied: typing-extensions>=4.6.1 in /usr/local/lib/python3.10/dist-packages (from pydantic!=1.8,!=1.8.1,<3.0.0,>=1.7.4->spacy<3.8.0,>=3.7.0->pt-core-news-sm==3.7.0) (4.12.2)\n",
            "Requirement already satisfied: charset-normalizer<4,>=2 in /usr/local/lib/python3.10/dist-packages (from requests<3.0.0,>=2.13.0->spacy<3.8.0,>=3.7.0->pt-core-news-sm==3.7.0) (3.3.2)\n",
            "Requirement already satisfied: idna<4,>=2.5 in /usr/local/lib/python3.10/dist-packages (from requests<3.0.0,>=2.13.0->spacy<3.8.0,>=3.7.0->pt-core-news-sm==3.7.0) (3.7)\n",
            "Requirement already satisfied: urllib3<3,>=1.21.1 in /usr/local/lib/python3.10/dist-packages (from requests<3.0.0,>=2.13.0->spacy<3.8.0,>=3.7.0->pt-core-news-sm==3.7.0) (2.0.7)\n",
            "Requirement already satisfied: certifi>=2017.4.17 in /usr/local/lib/python3.10/dist-packages (from requests<3.0.0,>=2.13.0->spacy<3.8.0,>=3.7.0->pt-core-news-sm==3.7.0) (2024.6.2)\n",
            "Requirement already satisfied: blis<0.8.0,>=0.7.8 in /usr/local/lib/python3.10/dist-packages (from thinc<8.3.0,>=8.2.2->spacy<3.8.0,>=3.7.0->pt-core-news-sm==3.7.0) (0.7.11)\n",
            "Requirement already satisfied: confection<1.0.0,>=0.0.1 in /usr/local/lib/python3.10/dist-packages (from thinc<8.3.0,>=8.2.2->spacy<3.8.0,>=3.7.0->pt-core-news-sm==3.7.0) (0.1.5)\n",
            "Requirement already satisfied: click>=8.0.0 in /usr/local/lib/python3.10/dist-packages (from typer<1.0.0,>=0.3.0->spacy<3.8.0,>=3.7.0->pt-core-news-sm==3.7.0) (8.1.7)\n",
            "Requirement already satisfied: shellingham>=1.3.0 in /usr/local/lib/python3.10/dist-packages (from typer<1.0.0,>=0.3.0->spacy<3.8.0,>=3.7.0->pt-core-news-sm==3.7.0) (1.5.4)\n",
            "Requirement already satisfied: rich>=10.11.0 in /usr/local/lib/python3.10/dist-packages (from typer<1.0.0,>=0.3.0->spacy<3.8.0,>=3.7.0->pt-core-news-sm==3.7.0) (13.7.1)\n",
            "Requirement already satisfied: cloudpathlib<1.0.0,>=0.7.0 in /usr/local/lib/python3.10/dist-packages (from weasel<0.5.0,>=0.1.0->spacy<3.8.0,>=3.7.0->pt-core-news-sm==3.7.0) (0.18.1)\n",
            "Requirement already satisfied: smart-open<8.0.0,>=5.2.1 in /usr/local/lib/python3.10/dist-packages (from weasel<0.5.0,>=0.1.0->spacy<3.8.0,>=3.7.0->pt-core-news-sm==3.7.0) (7.0.4)\n",
            "Requirement already satisfied: MarkupSafe>=2.0 in /usr/local/lib/python3.10/dist-packages (from jinja2->spacy<3.8.0,>=3.7.0->pt-core-news-sm==3.7.0) (2.1.5)\n",
            "Requirement already satisfied: marisa-trie>=0.7.7 in /usr/local/lib/python3.10/dist-packages (from language-data>=1.2->langcodes<4.0.0,>=3.2.0->spacy<3.8.0,>=3.7.0->pt-core-news-sm==3.7.0) (1.2.0)\n",
            "Requirement already satisfied: markdown-it-py>=2.2.0 in /usr/local/lib/python3.10/dist-packages (from rich>=10.11.0->typer<1.0.0,>=0.3.0->spacy<3.8.0,>=3.7.0->pt-core-news-sm==3.7.0) (3.0.0)\n",
            "Requirement already satisfied: pygments<3.0.0,>=2.13.0 in /usr/local/lib/python3.10/dist-packages (from rich>=10.11.0->typer<1.0.0,>=0.3.0->spacy<3.8.0,>=3.7.0->pt-core-news-sm==3.7.0) (2.16.1)\n",
            "Requirement already satisfied: wrapt in /usr/local/lib/python3.10/dist-packages (from smart-open<8.0.0,>=5.2.1->weasel<0.5.0,>=0.1.0->spacy<3.8.0,>=3.7.0->pt-core-news-sm==3.7.0) (1.14.1)\n",
            "Requirement already satisfied: mdurl~=0.1 in /usr/local/lib/python3.10/dist-packages (from markdown-it-py>=2.2.0->rich>=10.11.0->typer<1.0.0,>=0.3.0->spacy<3.8.0,>=3.7.0->pt-core-news-sm==3.7.0) (0.1.2)\n",
            "Installing collected packages: pt-core-news-sm\n",
            "Successfully installed pt-core-news-sm-3.7.0\n",
            "\u001b[38;5;2m✔ Download and installation successful\u001b[0m\n",
            "You can now load the package via spacy.load('pt_core_news_sm')\n",
            "\u001b[38;5;3m⚠ Restart to reload dependencies\u001b[0m\n",
            "If you are in a Jupyter or Colab notebook, you may need to restart Python in\n",
            "order to load all the package's dependencies. You can do this by selecting the\n",
            "'Restart kernel' or 'Restart runtime' option.\n",
            "[('nódulo', 'ADJ', 'nódulo'), ('tireoidiano', 'ADJ', 'tireoidiano')]\n"
          ]
        }
      ]
    },
    {
      "cell_type": "code",
      "source": [
        "doc = nlp(\"nodulo tireoidiano\")\n",
        "print([(w.text, w.pos_, w.lemma_) for w in doc])\n"
      ],
      "metadata": {
        "colab": {
          "base_uri": "https://localhost:8080/"
        },
        "id": "ie-HyE31atHC",
        "outputId": "a1684e5a-1c9a-4ba3-dfb9-1b39dc4525ee"
      },
      "execution_count": 8,
      "outputs": [
        {
          "output_type": "stream",
          "name": "stdout",
          "text": [
            "[('nodulo', 'NOUN', 'nodulo'), ('tireoidiano', 'ADJ', 'tireoidiano')]\n"
          ]
        }
      ]
    },
    {
      "cell_type": "code",
      "source": [
        "for token in \"nódulo de tireóide\".split():\n",
        "    print(stemmer.stem(token))"
      ],
      "metadata": {
        "colab": {
          "base_uri": "https://localhost:8080/"
        },
        "id": "CSo6OsfZawDZ",
        "outputId": "26637b70-a182-4905-c929-a6aefe1ba07d"
      },
      "execution_count": 9,
      "outputs": [
        {
          "output_type": "stream",
          "name": "stdout",
          "text": [
            "nódul\n",
            "de\n",
            "tireóid\n"
          ]
        }
      ]
    },
    {
      "cell_type": "code",
      "source": [
        "type(stop_words)\n"
      ],
      "metadata": {
        "colab": {
          "base_uri": "https://localhost:8080/"
        },
        "id": "5tcUQsZmbBrP",
        "outputId": "713b902b-e480-4e53-a136-812d75bedd21"
      },
      "execution_count": 10,
      "outputs": [
        {
          "output_type": "execute_result",
          "data": {
            "text/plain": [
              "list"
            ]
          },
          "metadata": {},
          "execution_count": 10
        }
      ]
    },
    {
      "cell_type": "code",
      "source": [
        "lemmatizer = WordNetLemmatizer()\n",
        "print(lemmatizer.lemmatize(\"poliartralgia\"))\n"
      ],
      "metadata": {
        "colab": {
          "base_uri": "https://localhost:8080/"
        },
        "id": "-lDmA-4ibE-9",
        "outputId": "78ae2307-43f2-402e-8c24-2d283143fccb"
      },
      "execution_count": 11,
      "outputs": [
        {
          "output_type": "stream",
          "name": "stdout",
          "text": [
            "poliartralgia\n"
          ]
        }
      ]
    },
    {
      "cell_type": "code",
      "source": [],
      "metadata": {
        "id": "OJF5VEEkbIIR"
      },
      "execution_count": null,
      "outputs": []
    },
    {
      "cell_type": "code",
      "source": [
        "nltk.download()"
      ],
      "metadata": {
        "colab": {
          "base_uri": "https://localhost:8080/",
          "height": 356
        },
        "id": "ZTqwyZGvbJ7f",
        "outputId": "3084f8d4-9dd3-4a39-da51-5a3efb7adc22"
      },
      "execution_count": 12,
      "outputs": [
        {
          "output_type": "stream",
          "name": "stdout",
          "text": [
            "NLTK Downloader\n",
            "---------------------------------------------------------------------------\n",
            "    d) Download   l) List    u) Update   c) Config   h) Help   q) Quit\n",
            "---------------------------------------------------------------------------\n"
          ]
        },
        {
          "output_type": "error",
          "ename": "KeyboardInterrupt",
          "evalue": "Interrupted by user",
          "traceback": [
            "\u001b[0;31m---------------------------------------------------------------------------\u001b[0m",
            "\u001b[0;31mKeyboardInterrupt\u001b[0m                         Traceback (most recent call last)",
            "\u001b[0;32m<ipython-input-12-6e230a00a763>\u001b[0m in \u001b[0;36m<cell line: 1>\u001b[0;34m()\u001b[0m\n\u001b[0;32m----> 1\u001b[0;31m \u001b[0mnltk\u001b[0m\u001b[0;34m.\u001b[0m\u001b[0mdownload\u001b[0m\u001b[0;34m(\u001b[0m\u001b[0;34m)\u001b[0m\u001b[0;34m\u001b[0m\u001b[0;34m\u001b[0m\u001b[0m\n\u001b[0m",
            "\u001b[0;32m/usr/local/lib/python3.10/dist-packages/nltk/downloader.py\u001b[0m in \u001b[0;36mdownload\u001b[0;34m(self, info_or_id, download_dir, quiet, force, prefix, halt_on_error, raise_on_error, print_error_to)\u001b[0m\n\u001b[1;32m    761\u001b[0m             \u001b[0;32mif\u001b[0m \u001b[0mdownload_dir\u001b[0m \u001b[0;32mis\u001b[0m \u001b[0;32mnot\u001b[0m \u001b[0;32mNone\u001b[0m\u001b[0;34m:\u001b[0m\u001b[0;34m\u001b[0m\u001b[0;34m\u001b[0m\u001b[0m\n\u001b[1;32m    762\u001b[0m                 \u001b[0mself\u001b[0m\u001b[0;34m.\u001b[0m\u001b[0m_download_dir\u001b[0m \u001b[0;34m=\u001b[0m \u001b[0mdownload_dir\u001b[0m\u001b[0;34m\u001b[0m\u001b[0;34m\u001b[0m\u001b[0m\n\u001b[0;32m--> 763\u001b[0;31m             \u001b[0mself\u001b[0m\u001b[0;34m.\u001b[0m\u001b[0m_interactive_download\u001b[0m\u001b[0;34m(\u001b[0m\u001b[0;34m)\u001b[0m\u001b[0;34m\u001b[0m\u001b[0;34m\u001b[0m\u001b[0m\n\u001b[0m\u001b[1;32m    764\u001b[0m             \u001b[0;32mreturn\u001b[0m \u001b[0;32mTrue\u001b[0m\u001b[0;34m\u001b[0m\u001b[0;34m\u001b[0m\u001b[0m\n\u001b[1;32m    765\u001b[0m \u001b[0;34m\u001b[0m\u001b[0m\n",
            "\u001b[0;32m/usr/local/lib/python3.10/dist-packages/nltk/downloader.py\u001b[0m in \u001b[0;36m_interactive_download\u001b[0;34m(self)\u001b[0m\n\u001b[1;32m   1113\u001b[0m                 \u001b[0mDownloaderGUI\u001b[0m\u001b[0;34m(\u001b[0m\u001b[0mself\u001b[0m\u001b[0;34m)\u001b[0m\u001b[0;34m.\u001b[0m\u001b[0mmainloop\u001b[0m\u001b[0;34m(\u001b[0m\u001b[0;34m)\u001b[0m\u001b[0;34m\u001b[0m\u001b[0;34m\u001b[0m\u001b[0m\n\u001b[1;32m   1114\u001b[0m             \u001b[0;32mexcept\u001b[0m \u001b[0mTclError\u001b[0m\u001b[0;34m:\u001b[0m\u001b[0;34m\u001b[0m\u001b[0;34m\u001b[0m\u001b[0m\n\u001b[0;32m-> 1115\u001b[0;31m                 \u001b[0mDownloaderShell\u001b[0m\u001b[0;34m(\u001b[0m\u001b[0mself\u001b[0m\u001b[0;34m)\u001b[0m\u001b[0;34m.\u001b[0m\u001b[0mrun\u001b[0m\u001b[0;34m(\u001b[0m\u001b[0;34m)\u001b[0m\u001b[0;34m\u001b[0m\u001b[0;34m\u001b[0m\u001b[0m\n\u001b[0m\u001b[1;32m   1116\u001b[0m         \u001b[0;32melse\u001b[0m\u001b[0;34m:\u001b[0m\u001b[0;34m\u001b[0m\u001b[0;34m\u001b[0m\u001b[0m\n\u001b[1;32m   1117\u001b[0m             \u001b[0mDownloaderShell\u001b[0m\u001b[0;34m(\u001b[0m\u001b[0mself\u001b[0m\u001b[0;34m)\u001b[0m\u001b[0;34m.\u001b[0m\u001b[0mrun\u001b[0m\u001b[0;34m(\u001b[0m\u001b[0;34m)\u001b[0m\u001b[0;34m\u001b[0m\u001b[0;34m\u001b[0m\u001b[0m\n",
            "\u001b[0;32m/usr/local/lib/python3.10/dist-packages/nltk/downloader.py\u001b[0m in \u001b[0;36mrun\u001b[0;34m(self)\u001b[0m\n\u001b[1;32m   1139\u001b[0m                 \u001b[0;34m\"q) Quit\"\u001b[0m\u001b[0;34m,\u001b[0m\u001b[0;34m\u001b[0m\u001b[0;34m\u001b[0m\u001b[0m\n\u001b[1;32m   1140\u001b[0m             )\n\u001b[0;32m-> 1141\u001b[0;31m             \u001b[0muser_input\u001b[0m \u001b[0;34m=\u001b[0m \u001b[0minput\u001b[0m\u001b[0;34m(\u001b[0m\u001b[0;34m\"Downloader> \"\u001b[0m\u001b[0;34m)\u001b[0m\u001b[0;34m.\u001b[0m\u001b[0mstrip\u001b[0m\u001b[0;34m(\u001b[0m\u001b[0;34m)\u001b[0m\u001b[0;34m\u001b[0m\u001b[0;34m\u001b[0m\u001b[0m\n\u001b[0m\u001b[1;32m   1142\u001b[0m             \u001b[0;32mif\u001b[0m \u001b[0;32mnot\u001b[0m \u001b[0muser_input\u001b[0m\u001b[0;34m:\u001b[0m\u001b[0;34m\u001b[0m\u001b[0;34m\u001b[0m\u001b[0m\n\u001b[1;32m   1143\u001b[0m                 \u001b[0mprint\u001b[0m\u001b[0;34m(\u001b[0m\u001b[0;34m)\u001b[0m\u001b[0;34m\u001b[0m\u001b[0;34m\u001b[0m\u001b[0m\n",
            "\u001b[0;32m/usr/local/lib/python3.10/dist-packages/ipykernel/kernelbase.py\u001b[0m in \u001b[0;36mraw_input\u001b[0;34m(self, prompt)\u001b[0m\n\u001b[1;32m    849\u001b[0m                 \u001b[0;34m\"raw_input was called, but this frontend does not support input requests.\"\u001b[0m\u001b[0;34m\u001b[0m\u001b[0;34m\u001b[0m\u001b[0m\n\u001b[1;32m    850\u001b[0m             )\n\u001b[0;32m--> 851\u001b[0;31m         return self._input_request(str(prompt),\n\u001b[0m\u001b[1;32m    852\u001b[0m             \u001b[0mself\u001b[0m\u001b[0;34m.\u001b[0m\u001b[0m_parent_ident\u001b[0m\u001b[0;34m,\u001b[0m\u001b[0;34m\u001b[0m\u001b[0;34m\u001b[0m\u001b[0m\n\u001b[1;32m    853\u001b[0m             \u001b[0mself\u001b[0m\u001b[0;34m.\u001b[0m\u001b[0m_parent_header\u001b[0m\u001b[0;34m,\u001b[0m\u001b[0;34m\u001b[0m\u001b[0;34m\u001b[0m\u001b[0m\n",
            "\u001b[0;32m/usr/local/lib/python3.10/dist-packages/ipykernel/kernelbase.py\u001b[0m in \u001b[0;36m_input_request\u001b[0;34m(self, prompt, ident, parent, password)\u001b[0m\n\u001b[1;32m    893\u001b[0m             \u001b[0;32mexcept\u001b[0m \u001b[0mKeyboardInterrupt\u001b[0m\u001b[0;34m:\u001b[0m\u001b[0;34m\u001b[0m\u001b[0;34m\u001b[0m\u001b[0m\n\u001b[1;32m    894\u001b[0m                 \u001b[0;31m# re-raise KeyboardInterrupt, to truncate traceback\u001b[0m\u001b[0;34m\u001b[0m\u001b[0;34m\u001b[0m\u001b[0m\n\u001b[0;32m--> 895\u001b[0;31m                 \u001b[0;32mraise\u001b[0m \u001b[0mKeyboardInterrupt\u001b[0m\u001b[0;34m(\u001b[0m\u001b[0;34m\"Interrupted by user\"\u001b[0m\u001b[0;34m)\u001b[0m \u001b[0;32mfrom\u001b[0m \u001b[0;32mNone\u001b[0m\u001b[0;34m\u001b[0m\u001b[0;34m\u001b[0m\u001b[0m\n\u001b[0m\u001b[1;32m    896\u001b[0m             \u001b[0;32mexcept\u001b[0m \u001b[0mException\u001b[0m \u001b[0;32mas\u001b[0m \u001b[0me\u001b[0m\u001b[0;34m:\u001b[0m\u001b[0;34m\u001b[0m\u001b[0;34m\u001b[0m\u001b[0m\n\u001b[1;32m    897\u001b[0m                 \u001b[0mself\u001b[0m\u001b[0;34m.\u001b[0m\u001b[0mlog\u001b[0m\u001b[0;34m.\u001b[0m\u001b[0mwarning\u001b[0m\u001b[0;34m(\u001b[0m\u001b[0;34m\"Invalid Message:\"\u001b[0m\u001b[0;34m,\u001b[0m \u001b[0mexc_info\u001b[0m\u001b[0;34m=\u001b[0m\u001b[0;32mTrue\u001b[0m\u001b[0;34m)\u001b[0m\u001b[0;34m\u001b[0m\u001b[0;34m\u001b[0m\u001b[0m\n",
            "\u001b[0;31mKeyboardInterrupt\u001b[0m: Interrupted by user"
          ]
        }
      ]
    }
  ]
}