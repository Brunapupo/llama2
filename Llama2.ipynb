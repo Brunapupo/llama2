{
  "nbformat": 4,
  "nbformat_minor": 0,
  "metadata": {
    "colab": {
      "provenance": [],
      "authorship_tag": "ABX9TyPxoW1+PgtJBFDuYM8ORHwd",
      "include_colab_link": true
    },
    "kernelspec": {
      "name": "python3",
      "display_name": "Python 3"
    },
    "language_info": {
      "name": "python"
    }
  },
  "cells": [
    {
      "cell_type": "markdown",
      "metadata": {
        "id": "view-in-github",
        "colab_type": "text"
      },
      "source": [
        "<a href=\"https://colab.research.google.com/github/Brunapupo/llama2/blob/main/Llama2.ipynb\" target=\"_parent\"><img src=\"https://colab.research.google.com/assets/colab-badge.svg\" alt=\"Open In Colab\"/></a>"
      ]
    },
    {
      "cell_type": "markdown",
      "source": [
        "# **Install replicate**"
      ],
      "metadata": {
        "id": "5X2-_hkKK8bL"
      }
    },
    {
      "cell_type": "code",
      "source": [
        "! pip install replicate\n"
      ],
      "metadata": {
        "colab": {
          "base_uri": "https://localhost:8080/"
        },
        "id": "ZXbGVoE-LBNA",
        "outputId": "85714f4f-1b56-4e95-b896-4b7780c41382"
      },
      "execution_count": 25,
      "outputs": [
        {
          "output_type": "stream",
          "name": "stdout",
          "text": [
            "Requirement already satisfied: replicate in /usr/local/lib/python3.10/dist-packages (0.24.0)\n",
            "Requirement already satisfied: httpx<1,>=0.21.0 in /usr/local/lib/python3.10/dist-packages (from replicate) (0.27.0)\n",
            "Requirement already satisfied: packaging in /usr/local/lib/python3.10/dist-packages (from replicate) (24.0)\n",
            "Requirement already satisfied: pydantic>1 in /usr/local/lib/python3.10/dist-packages (from replicate) (2.6.4)\n",
            "Requirement already satisfied: typing-extensions>=4.5.0 in /usr/local/lib/python3.10/dist-packages (from replicate) (4.10.0)\n",
            "Requirement already satisfied: anyio in /usr/local/lib/python3.10/dist-packages (from httpx<1,>=0.21.0->replicate) (3.7.1)\n",
            "Requirement already satisfied: certifi in /usr/local/lib/python3.10/dist-packages (from httpx<1,>=0.21.0->replicate) (2024.2.2)\n",
            "Requirement already satisfied: httpcore==1.* in /usr/local/lib/python3.10/dist-packages (from httpx<1,>=0.21.0->replicate) (1.0.4)\n",
            "Requirement already satisfied: idna in /usr/local/lib/python3.10/dist-packages (from httpx<1,>=0.21.0->replicate) (3.6)\n",
            "Requirement already satisfied: sniffio in /usr/local/lib/python3.10/dist-packages (from httpx<1,>=0.21.0->replicate) (1.3.1)\n",
            "Requirement already satisfied: h11<0.15,>=0.13 in /usr/local/lib/python3.10/dist-packages (from httpcore==1.*->httpx<1,>=0.21.0->replicate) (0.14.0)\n",
            "Requirement already satisfied: annotated-types>=0.4.0 in /usr/local/lib/python3.10/dist-packages (from pydantic>1->replicate) (0.6.0)\n",
            "Requirement already satisfied: pydantic-core==2.16.3 in /usr/local/lib/python3.10/dist-packages (from pydantic>1->replicate) (2.16.3)\n",
            "Requirement already satisfied: exceptiongroup in /usr/local/lib/python3.10/dist-packages (from anyio->httpx<1,>=0.21.0->replicate) (1.2.0)\n"
          ]
        }
      ]
    },
    {
      "cell_type": "markdown",
      "source": [
        "# **# Set Replicate API token**"
      ],
      "metadata": {
        "id": "myoe0aAWLYij"
      }
    },
    {
      "cell_type": "code",
      "source": [
        "import os\n",
        "import replicate\n",
        "\n",
        "#Definindo a chama da api dentro do python llhama\n",
        "os.environ[\"REPLICATE_API_TOKEN\"] = \"r8_ZBCtnclmoAfS0AcucB8Fhn5IO9b6zyA3hi9yI\"\n",
        "api = replicate.Client(api_token=os.environ[\"REPLICATE_API_TOKEN\"])"
      ],
      "metadata": {
        "id": "GS4XY5JfLRdA"
      },
      "execution_count": 28,
      "outputs": []
    },
    {
      "cell_type": "markdown",
      "source": [
        "# **Rodando Llama 2 modelo**"
      ],
      "metadata": {
        "id": "hdmzXu-OMchS"
      }
    },
    {
      "cell_type": "code",
      "source": [
        "# Prompts\n",
        "pre_prompt = \"A anemia é uma condição médica caracterizada pela redução na quantidade de glóbulos vermelhos ou na concentração de hemoglobina no sangue. Isso resulta em uma menor capacidade do sangue de transportar oxigênio para os tecidos do corpo, podendo causar sintomas como fadiga, palidez, falta de ar e tontura. As causas da anemia podem ser variadas, incluindo deficiências nutricionais (como falta de ferro, vitamina B12 ou ácido fólico), perdas sanguíneas crônicas, doenças crônicas, infecções, ou condições genéticas. O diagnóstico é feito por meio de exames de sangue, e o tratamento depende da causa subjacente, podendo incluir suplementação nutricional, medicamentos, ou em casos mais graves, transfusões de sangue.\"\n",
        "prompt_input = \"Quais são as principais causas da anemia e como ela pode ser tratada?\"\n",
        "\n",
        "# Generate LLM response\n",
        "output = api.run(\"meta/llama-2-70b-chat:02e509c789964a7ea8736978a43525956ef40397be9033abf9fd2badfe68c9e3\", # LLM model\n",
        "                        input={\"prompt\": f\"{pre_prompt} {prompt_input} Assistente: \", # Prompts\n",
        "                        \"temperature\":0.1, \"top_p\":0.9, \"max_length\":128, \"repetition_penalty\":1})  # Model parameters\n",
        "\n",
        "for item in output:\n",
        "    print(item, end=\"\")"
      ],
      "metadata": {
        "colab": {
          "base_uri": "https://localhost:8080/"
        },
        "id": "xt6PQ059MiFp",
        "outputId": "2f33f516-b846-45e7-8259-d85f122cade6"
      },
      "execution_count": 34,
      "outputs": [
        {
          "output_type": "stream",
          "name": "stdout",
          "text": [
            " A anemia é uma condição médica comuns caracterizada por uma diminuição na quantidade de glóbulos vermelhos ou na concentração de hemoglobina no sangue. As principais causas da anemia incluem:\n",
            "\n",
            "* Deficiência nutricional: Falta de ferro, vitamina B12, ácido fólico ou outros nutrientes essenciais podem levar a anemia.\n",
            "* Perdas sanguíneas crônicas: Perdas sanguíneas contínuas, como"
          ]
        }
      ]
    }
  ]
}